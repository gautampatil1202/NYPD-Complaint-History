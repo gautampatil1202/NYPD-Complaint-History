{
  "cells": [
    {
      "cell_type": "markdown",
      "source": [
        "# NYPD Arrest Data (Historic):\n",
        "\n",
        "a. To get the required columns, use this module:\n",
        "\n",
        "\n",
        "1.   get_area_of_interest(df_spark, interested_columns)\n",
        "\n",
        "\n",
        "b. Preprocessing pipeline: Pass your data through these functions. (if your columns fall in those categories)\n",
        "\n",
        "1.   valid_date_check(date)\n",
        "2.   valid_time_check(time)\n",
        "3.   reverse_geo_code_boros(df_spark, Latitude, Longitude, Boro, lat_index, long_index)\n",
        "4.   refine_age_group_race(df_spark, victim_age_group=None, suspect_age_group=None, suspect_race=None, victim_race=None)\n",
        "5.   refine_sex_gender_impute(df_spark, suspect_age=None, suspect_gender=None, victim_age=None, victim_gender=None)\n",
        "6.   refine_precinct_jur(df_spark, precinct=None, Jur_code=None)\n",
        "\n"
      ],
      "metadata": {
        "id": "EtwLWOuvVE1R"
      }
    },
    {
      "cell_type": "code",
      "execution_count": 1,
      "metadata": {
        "colab": {
          "base_uri": "https://localhost:8080/"
        },
        "id": "BqZM48WuxIHr",
        "outputId": "db9b778e-a62a-431d-edc6-ed3fca103166"
      },
      "outputs": [
        {
          "output_type": "stream",
          "name": "stdout",
          "text": [
            "Requirement already satisfied: pyspark in /usr/local/lib/python3.11/dist-packages (3.5.1)\n",
            "Requirement already satisfied: py4j==0.10.9.7 in /usr/local/lib/python3.11/dist-packages (from pyspark) (0.10.9.7)\n",
            "Collecting openclean\n",
            "  Downloading openclean-0.2.1-py3-none-any.whl.metadata (9.3 kB)\n",
            "Collecting openclean-core==0.4.1 (from openclean)\n",
            "  Downloading openclean_core-0.4.1-py3-none-any.whl.metadata (7.6 kB)\n",
            "Requirement already satisfied: future in /usr/local/lib/python3.11/dist-packages (from openclean-core==0.4.1->openclean) (1.0.0)\n",
            "Collecting appdirs>=1.4.4 (from openclean-core==0.4.1->openclean)\n",
            "  Downloading appdirs-1.4.4-py2.py3-none-any.whl.metadata (9.0 kB)\n",
            "Requirement already satisfied: python-dateutil in /usr/local/lib/python3.11/dist-packages (from openclean-core==0.4.1->openclean) (2.9.0.post0)\n",
            "Collecting dill (from openclean-core==0.4.1->openclean)\n",
            "  Downloading dill-0.4.0-py3-none-any.whl.metadata (10 kB)\n",
            "Requirement already satisfied: requests in /usr/local/lib/python3.11/dist-packages (from openclean-core==0.4.1->openclean) (2.32.3)\n",
            "Requirement already satisfied: pandas>=1.0.0 in /usr/local/lib/python3.11/dist-packages (from openclean-core==0.4.1->openclean) (2.2.2)\n",
            "Requirement already satisfied: scikit-learn in /usr/local/lib/python3.11/dist-packages (from openclean-core==0.4.1->openclean) (1.6.1)\n",
            "Requirement already satisfied: jsonschema>=3.2.0 in /usr/local/lib/python3.11/dist-packages (from openclean-core==0.4.1->openclean) (4.23.0)\n",
            "Collecting histore>=0.4.0 (from openclean-core==0.4.1->openclean)\n",
            "  Downloading histore-0.4.1-py3-none-any.whl.metadata (6.1 kB)\n",
            "Collecting flowserv-core>=0.8.0 (from openclean-core==0.4.1->openclean)\n",
            "  Downloading flowserv_core-0.9.4-py3-none-any.whl.metadata (8.3 kB)\n",
            "Collecting jellyfish (from openclean-core==0.4.1->openclean)\n",
            "  Downloading jellyfish-1.2.0-cp311-cp311-manylinux_2_17_x86_64.manylinux2014_x86_64.whl.metadata (2.6 kB)\n",
            "Collecting refdata>=0.2.0 (from openclean-core==0.4.1->openclean)\n",
            "  Downloading refdata-0.2.0-py3-none-any.whl.metadata (6.3 kB)\n",
            "Requirement already satisfied: scipy in /usr/local/lib/python3.11/dist-packages (from openclean-core==0.4.1->openclean) (1.15.2)\n",
            "Requirement already satisfied: gitpython in /usr/local/lib/python3.11/dist-packages (from flowserv-core>=0.8.0->openclean-core==0.4.1->openclean) (3.1.44)\n",
            "Collecting paramiko (from flowserv-core>=0.8.0->openclean-core==0.4.1->openclean)\n",
            "  Downloading paramiko-3.5.1-py3-none-any.whl.metadata (4.6 kB)\n",
            "Collecting passlib (from flowserv-core>=0.8.0->openclean-core==0.4.1->openclean)\n",
            "  Downloading passlib-1.7.4-py2.py3-none-any.whl.metadata (1.7 kB)\n",
            "Requirement already satisfied: pyyaml>=5.1 in /usr/local/lib/python3.11/dist-packages (from flowserv-core>=0.8.0->openclean-core==0.4.1->openclean) (6.0.2)\n",
            "Requirement already satisfied: SQLAlchemy>=1.3.18 in /usr/local/lib/python3.11/dist-packages (from flowserv-core>=0.8.0->openclean-core==0.4.1->openclean) (2.0.40)\n",
            "Requirement already satisfied: Click in /usr/local/lib/python3.11/dist-packages (from flowserv-core>=0.8.0->openclean-core==0.4.1->openclean) (8.1.8)\n",
            "Collecting pyyaml-include (from flowserv-core>=0.8.0->openclean-core==0.4.1->openclean)\n",
            "  Downloading pyyaml_include-2.2-py3-none-any.whl.metadata (19 kB)\n",
            "Requirement already satisfied: psutil in /usr/local/lib/python3.11/dist-packages (from histore>=0.4.0->openclean-core==0.4.1->openclean) (5.9.5)\n",
            "Requirement already satisfied: attrs>=22.2.0 in /usr/local/lib/python3.11/dist-packages (from jsonschema>=3.2.0->openclean-core==0.4.1->openclean) (25.3.0)\n",
            "Requirement already satisfied: jsonschema-specifications>=2023.03.6 in /usr/local/lib/python3.11/dist-packages (from jsonschema>=3.2.0->openclean-core==0.4.1->openclean) (2025.4.1)\n",
            "Requirement already satisfied: referencing>=0.28.4 in /usr/local/lib/python3.11/dist-packages (from jsonschema>=3.2.0->openclean-core==0.4.1->openclean) (0.36.2)\n",
            "Requirement already satisfied: rpds-py>=0.7.1 in /usr/local/lib/python3.11/dist-packages (from jsonschema>=3.2.0->openclean-core==0.4.1->openclean) (0.24.0)\n",
            "Requirement already satisfied: numpy>=1.23.2 in /usr/local/lib/python3.11/dist-packages (from pandas>=1.0.0->openclean-core==0.4.1->openclean) (2.0.2)\n",
            "Requirement already satisfied: pytz>=2020.1 in /usr/local/lib/python3.11/dist-packages (from pandas>=1.0.0->openclean-core==0.4.1->openclean) (2025.2)\n",
            "Requirement already satisfied: tzdata>=2022.7 in /usr/local/lib/python3.11/dist-packages (from pandas>=1.0.0->openclean-core==0.4.1->openclean) (2025.2)\n",
            "Requirement already satisfied: six>=1.5 in /usr/local/lib/python3.11/dist-packages (from python-dateutil->openclean-core==0.4.1->openclean) (1.17.0)\n",
            "Collecting datasize>=1.0.0 (from refdata>=0.2.0->openclean-core==0.4.1->openclean)\n",
            "  Downloading datasize-1.0.0.tar.gz (149 kB)\n",
            "\u001b[2K     \u001b[90m━━━━━━━━━━━━━━━━━━━━━━━━━━━━━━━━━━━━━━━\u001b[0m \u001b[32m149.4/149.4 kB\u001b[0m \u001b[31m2.6 MB/s\u001b[0m eta \u001b[36m0:00:00\u001b[0m\n",
            "\u001b[?25h  Preparing metadata (setup.py) ... \u001b[?25l\u001b[?25hdone\n",
            "Requirement already satisfied: pooch>=1.3.0 in /usr/local/lib/python3.11/dist-packages (from refdata>=0.2.0->openclean-core==0.4.1->openclean) (1.8.2)\n",
            "Collecting tableprint (from refdata>=0.2.0->openclean-core==0.4.1->openclean)\n",
            "  Downloading tableprint-0.9.1-py3-none-any.whl.metadata (1.0 kB)\n",
            "Requirement already satisfied: charset-normalizer<4,>=2 in /usr/local/lib/python3.11/dist-packages (from requests->openclean-core==0.4.1->openclean) (3.4.1)\n",
            "Requirement already satisfied: idna<4,>=2.5 in /usr/local/lib/python3.11/dist-packages (from requests->openclean-core==0.4.1->openclean) (3.10)\n",
            "Requirement already satisfied: urllib3<3,>=1.21.1 in /usr/local/lib/python3.11/dist-packages (from requests->openclean-core==0.4.1->openclean) (2.4.0)\n",
            "Requirement already satisfied: certifi>=2017.4.17 in /usr/local/lib/python3.11/dist-packages (from requests->openclean-core==0.4.1->openclean) (2025.4.26)\n",
            "Requirement already satisfied: joblib>=1.2.0 in /usr/local/lib/python3.11/dist-packages (from scikit-learn->openclean-core==0.4.1->openclean) (1.4.2)\n",
            "Requirement already satisfied: threadpoolctl>=3.1.0 in /usr/local/lib/python3.11/dist-packages (from scikit-learn->openclean-core==0.4.1->openclean) (3.6.0)\n",
            "Requirement already satisfied: platformdirs>=2.5.0 in /usr/local/lib/python3.11/dist-packages (from pooch>=1.3.0->refdata>=0.2.0->openclean-core==0.4.1->openclean) (4.3.7)\n",
            "Requirement already satisfied: packaging>=20.0 in /usr/local/lib/python3.11/dist-packages (from pooch>=1.3.0->refdata>=0.2.0->openclean-core==0.4.1->openclean) (24.2)\n",
            "Requirement already satisfied: typing-extensions>=4.4.0 in /usr/local/lib/python3.11/dist-packages (from referencing>=0.28.4->jsonschema>=3.2.0->openclean-core==0.4.1->openclean) (4.13.2)\n",
            "Requirement already satisfied: greenlet>=1 in /usr/local/lib/python3.11/dist-packages (from SQLAlchemy>=1.3.18->flowserv-core>=0.8.0->openclean-core==0.4.1->openclean) (3.2.1)\n",
            "Requirement already satisfied: gitdb<5,>=4.0.1 in /usr/local/lib/python3.11/dist-packages (from gitpython->flowserv-core>=0.8.0->openclean-core==0.4.1->openclean) (4.0.12)\n",
            "Collecting bcrypt>=3.2 (from paramiko->flowserv-core>=0.8.0->openclean-core==0.4.1->openclean)\n",
            "  Downloading bcrypt-4.3.0-cp39-abi3-manylinux_2_34_x86_64.whl.metadata (10 kB)\n",
            "Requirement already satisfied: cryptography>=3.3 in /usr/local/lib/python3.11/dist-packages (from paramiko->flowserv-core>=0.8.0->openclean-core==0.4.1->openclean) (43.0.3)\n",
            "Collecting pynacl>=1.5 (from paramiko->flowserv-core>=0.8.0->openclean-core==0.4.1->openclean)\n",
            "  Downloading PyNaCl-1.5.0-cp36-abi3-manylinux_2_17_x86_64.manylinux2014_x86_64.manylinux_2_24_x86_64.whl.metadata (8.6 kB)\n",
            "Requirement already satisfied: fsspec>=2021.04.0 in /usr/local/lib/python3.11/dist-packages (from pyyaml-include->flowserv-core>=0.8.0->openclean-core==0.4.1->openclean) (2025.3.2)\n",
            "Requirement already satisfied: wcwidth in /usr/local/lib/python3.11/dist-packages (from tableprint->refdata>=0.2.0->openclean-core==0.4.1->openclean) (0.2.13)\n",
            "Requirement already satisfied: cffi>=1.12 in /usr/local/lib/python3.11/dist-packages (from cryptography>=3.3->paramiko->flowserv-core>=0.8.0->openclean-core==0.4.1->openclean) (1.17.1)\n",
            "Requirement already satisfied: smmap<6,>=3.0.1 in /usr/local/lib/python3.11/dist-packages (from gitdb<5,>=4.0.1->gitpython->flowserv-core>=0.8.0->openclean-core==0.4.1->openclean) (5.0.2)\n",
            "Requirement already satisfied: pycparser in /usr/local/lib/python3.11/dist-packages (from cffi>=1.12->cryptography>=3.3->paramiko->flowserv-core>=0.8.0->openclean-core==0.4.1->openclean) (2.22)\n",
            "Downloading openclean-0.2.1-py3-none-any.whl (5.2 kB)\n",
            "Downloading openclean_core-0.4.1-py3-none-any.whl (267 kB)\n",
            "\u001b[2K   \u001b[90m━━━━━━━━━━━━━━━━━━━━━━━━━━━━━━━━━━━━━━━━\u001b[0m \u001b[32m267.1/267.1 kB\u001b[0m \u001b[31m9.1 MB/s\u001b[0m eta \u001b[36m0:00:00\u001b[0m\n",
            "\u001b[?25hDownloading appdirs-1.4.4-py2.py3-none-any.whl (9.6 kB)\n",
            "Downloading flowserv_core-0.9.4-py3-none-any.whl (260 kB)\n",
            "\u001b[2K   \u001b[90m━━━━━━━━━━━━━━━━━━━━━━━━━━━━━━━━━━━━━━━━\u001b[0m \u001b[32m260.8/260.8 kB\u001b[0m \u001b[31m8.1 MB/s\u001b[0m eta \u001b[36m0:00:00\u001b[0m\n",
            "\u001b[?25hDownloading histore-0.4.1-py3-none-any.whl (109 kB)\n",
            "\u001b[2K   \u001b[90m━━━━━━━━━━━━━━━━━━━━━━━━━━━━━━━━━━━━━━━━\u001b[0m \u001b[32m109.8/109.8 kB\u001b[0m \u001b[31m6.9 MB/s\u001b[0m eta \u001b[36m0:00:00\u001b[0m\n",
            "\u001b[?25hDownloading refdata-0.2.0-py3-none-any.whl (37 kB)\n",
            "Downloading dill-0.4.0-py3-none-any.whl (119 kB)\n",
            "\u001b[2K   \u001b[90m━━━━━━━━━━━━━━━━━━━━━━━━━━━━━━━━━━━━━━━━\u001b[0m \u001b[32m119.7/119.7 kB\u001b[0m \u001b[31m8.4 MB/s\u001b[0m eta \u001b[36m0:00:00\u001b[0m\n",
            "\u001b[?25hDownloading jellyfish-1.2.0-cp311-cp311-manylinux_2_17_x86_64.manylinux2014_x86_64.whl (356 kB)\n",
            "\u001b[2K   \u001b[90m━━━━━━━━━━━━━━━━━━━━━━━━━━━━━━━━━━━━━━━━\u001b[0m \u001b[32m356.9/356.9 kB\u001b[0m \u001b[31m22.9 MB/s\u001b[0m eta \u001b[36m0:00:00\u001b[0m\n",
            "\u001b[?25hDownloading paramiko-3.5.1-py3-none-any.whl (227 kB)\n",
            "\u001b[2K   \u001b[90m━━━━━━━━━━━━━━━━━━━━━━━━━━━━━━━━━━━━━━━━\u001b[0m \u001b[32m227.3/227.3 kB\u001b[0m \u001b[31m16.0 MB/s\u001b[0m eta \u001b[36m0:00:00\u001b[0m\n",
            "\u001b[?25hDownloading passlib-1.7.4-py2.py3-none-any.whl (525 kB)\n",
            "\u001b[2K   \u001b[90m━━━━━━━━━━━━━━━━━━━━━━━━━━━━━━━━━━━━━━━━\u001b[0m \u001b[32m525.6/525.6 kB\u001b[0m \u001b[31m23.4 MB/s\u001b[0m eta \u001b[36m0:00:00\u001b[0m\n",
            "\u001b[?25hDownloading pyyaml_include-2.2-py3-none-any.whl (29 kB)\n",
            "Downloading tableprint-0.9.1-py3-none-any.whl (6.8 kB)\n",
            "Downloading bcrypt-4.3.0-cp39-abi3-manylinux_2_34_x86_64.whl (284 kB)\n",
            "\u001b[2K   \u001b[90m━━━━━━━━━━━━━━━━━━━━━━━━━━━━━━━━━━━━━━━━\u001b[0m \u001b[32m284.2/284.2 kB\u001b[0m \u001b[31m16.5 MB/s\u001b[0m eta \u001b[36m0:00:00\u001b[0m\n",
            "\u001b[?25hDownloading PyNaCl-1.5.0-cp36-abi3-manylinux_2_17_x86_64.manylinux2014_x86_64.manylinux_2_24_x86_64.whl (856 kB)\n",
            "\u001b[2K   \u001b[90m━━━━━━━━━━━━━━━━━━━━━━━━━━━━━━━━━━━━━━━━\u001b[0m \u001b[32m856.7/856.7 kB\u001b[0m \u001b[31m36.8 MB/s\u001b[0m eta \u001b[36m0:00:00\u001b[0m\n",
            "\u001b[?25hBuilding wheels for collected packages: datasize\n",
            "  Building wheel for datasize (setup.py) ... \u001b[?25l\u001b[?25hdone\n",
            "  Created wheel for datasize: filename=datasize-1.0.0-py2.py3-none-any.whl size=155030 sha256=b59fc86c7bb20731c64335f66b6e33917544b56272526ed9f617b520986f3b9e\n",
            "  Stored in directory: /root/.cache/pip/wheels/1b/a0/e5/4073bad08f2e5258fc86a7caf2df7d3e6ef0118b94f0ad2f1c\n",
            "Successfully built datasize\n",
            "Installing collected packages: passlib, datasize, appdirs, tableprint, pyyaml-include, jellyfish, dill, bcrypt, pynacl, paramiko, refdata, histore, flowserv-core, openclean-core, openclean\n",
            "Successfully installed appdirs-1.4.4 bcrypt-4.3.0 datasize-1.0.0 dill-0.4.0 flowserv-core-0.9.4 histore-0.4.1 jellyfish-1.2.0 openclean-0.2.1 openclean-core-0.4.1 paramiko-3.5.1 passlib-1.7.4 pynacl-1.5.0 pyyaml-include-2.2 refdata-0.2.0 tableprint-0.9.1\n"
          ]
        }
      ],
      "source": [
        "!pip install pyspark\n",
        "!pip install openclean"
      ]
    },
    {
      "cell_type": "markdown",
      "metadata": {
        "id": "veLiiPE9mUAY"
      },
      "source": [
        "# New Section"
      ]
    },
    {
      "cell_type": "code",
      "execution_count": 2,
      "metadata": {
        "id": "njQSr07Dc1O4"
      },
      "outputs": [],
      "source": [
        "#importing packages required\n",
        "from pyspark import SparkContext, SparkConf\n",
        "import os\n",
        "import requests\n",
        "from six.moves import urllib\n",
        "import sys\n",
        "import pandas as pd\n",
        "import matplotlib\n",
        "import matplotlib as plt\n",
        "import numpy as np\n",
        "import scipy as sp\n",
        "import IPython\n",
        "from IPython import display\n",
        "import sklearn\n",
        "import random\n",
        "import time\n",
        "import warnings\n",
        "import re\n",
        "import matplotlib.pyplot as plt\n",
        "%matplotlib inline\n",
        "from openclean.pipeline import stream\n",
        "from openclean.profiling.column import DefaultColumnProfiler\n",
        "from openclean.data.source.socrata import Socrata\n",
        "from openclean.pipeline import stream\n",
        "from openclean.function.eval.datatype import IsDatetime\n",
        "import datetime\n",
        "import pandas as pd\n",
        "from pyspark.sql import SparkSession, Row\n",
        "from pyspark.sql.functions import udf, struct\n",
        "from pyspark.sql.types import StringType"
      ]
    },
    {
      "cell_type": "code",
      "source": [
        "from geopy.geocoders import ArcGIS\n",
        "geocoder=ArcGIS()\n",
        "#example:\n",
        "geocoder.reverse('40.61157006600007, -73.74736517199995')"
      ],
      "metadata": {
        "colab": {
          "base_uri": "https://localhost:8080/"
        },
        "id": "OkctP_YYzwMX",
        "outputId": "0aa227ca-6262-4334-d74a-ae484089fe79"
      },
      "execution_count": 3,
      "outputs": [
        {
          "output_type": "execute_result",
          "data": {
            "text/plain": [
              "Location(808 Redfern Ave, Far Rockaway, New York 11691, USA, (40.611614718328, -73.747382377557, 0.0))"
            ]
          },
          "metadata": {},
          "execution_count": 3
        }
      ]
    },
    {
      "cell_type": "code",
      "execution_count": 4,
      "metadata": {
        "colab": {
          "base_uri": "https://localhost:8080/"
        },
        "id": "bjoAro6qcyOS",
        "outputId": "f702abdc-e68f-4004-978e-8ba31d970e4f"
      },
      "outputs": [
        {
          "output_type": "stream",
          "name": "stdout",
          "text": [
            "Fetching file. This may take a while... /content/NYPD_Arrests_Data_Historic_10k.csv\n",
            "File downloaded to: /content/NYPD_Arrests_Data_Historic_10k.csv\n"
          ]
        }
      ],
      "source": [
        "import os\n",
        "import urllib.request\n",
        "from pyspark import SparkContext\n",
        "from pyspark.sql import SparkSession\n",
        "\n",
        "# NYC Open Data API endpoint for NYPD Arrests (Historic)\n",
        "fn_src = 'https://data.cityofnewyork.us/resource/uip8-fykc.csv?$limit=10000'\n",
        "fn_dst = '/content/NYPD_Arrests_Data_Historic_10k.csv'\n",
        "\n",
        "# Download only if not already present\n",
        "if os.path.isfile(fn_dst):\n",
        "    print('File has already been downloaded:', fn_dst)\n",
        "else:\n",
        "    print('Fetching file. This may take a while...', fn_dst)\n",
        "    urllib.request.urlretrieve(fn_src, fn_dst)\n",
        "    print('File downloaded to:', fn_dst)"
      ]
    },
    {
      "cell_type": "code",
      "execution_count": 5,
      "metadata": {
        "id": "5bzyTuXgE_j9",
        "colab": {
          "base_uri": "https://localhost:8080/"
        },
        "outputId": "a804f090-6b17-449a-b583-10166ad8f57f"
      },
      "outputs": [
        {
          "output_type": "stream",
          "name": "stdout",
          "text": [
            "Number of rows: 10000\n",
            "root\n",
            " |-- arrest_key: integer (nullable = true)\n",
            " |-- arrest_date: timestamp (nullable = true)\n",
            " |-- pd_cd: integer (nullable = true)\n",
            " |-- pd_desc: string (nullable = true)\n",
            " |-- ky_cd: integer (nullable = true)\n",
            " |-- ofns_desc: string (nullable = true)\n",
            " |-- law_code: string (nullable = true)\n",
            " |-- law_cat_cd: string (nullable = true)\n",
            " |-- arrest_boro: string (nullable = true)\n",
            " |-- arrest_precinct: integer (nullable = true)\n",
            " |-- jurisdiction_code: integer (nullable = true)\n",
            " |-- age_group: string (nullable = true)\n",
            " |-- perp_sex: string (nullable = true)\n",
            " |-- perp_race: string (nullable = true)\n",
            " |-- x_coord_cd: integer (nullable = true)\n",
            " |-- y_coord_cd: integer (nullable = true)\n",
            " |-- latitude: double (nullable = true)\n",
            " |-- longitude: double (nullable = true)\n",
            " |-- geocoded_column: string (nullable = true)\n",
            "\n",
            "+----------+-------------------+-----+--------------------+-----+--------------------+----------+----------+-----------+---------------+-----------------+---------+--------+---------+----------+----------+-----------------+-----------------+--------------------+\n",
            "|arrest_key|        arrest_date|pd_cd|             pd_desc|ky_cd|           ofns_desc|  law_code|law_cat_cd|arrest_boro|arrest_precinct|jurisdiction_code|age_group|perp_sex|perp_race|x_coord_cd|y_coord_cd|         latitude|        longitude|     geocoded_column|\n",
            "+----------+-------------------+-----+--------------------+-----+--------------------+----------+----------+-----------+---------------+-----------------+---------+--------+---------+----------+----------+-----------------+-----------------+--------------------+\n",
            "| 298874520|2025-01-04 00:00:00|  439|LARCENY,GRAND FRO...|  109|       GRAND LARCENY|PL 1553004|         F|          M|              7|                0|    25-44|       M|    BLACK|         0|         0|              0.0|              0.0|         POINT (0 0)|\n",
            "| 298799078|2025-01-02 00:00:00|  101|           ASSAULT 3|  344|ASSAULT 3 & RELAT...|PL 1200001|         M|          M|             23|                0|    25-44|       F|    BLACK|   1000213|    228833|40.79475532416718|-73.9423482609703|POINT (-73.942348...|\n",
            "| 298921520|2025-01-05 00:00:00|  779|PUBLIC ADMINISTRA...|  126|MISCELLANEOUS PEN...|PL 215510B|         F|          K|             76|                0|    45-64|       M|    WHITE|         0|         0|              0.0|              0.0|         POINT (0 0)|\n",
            "| 299008265|2025-01-07 00:00:00|  105|   STRANGULATION 1ST|  106|      FELONY ASSAULT|PL 1211200|         F|          Q|            113|                0|    45-64|       M|    BLACK|   1046399|    187126|        40.680086|       -73.775931|POINT (-73.775931...|\n",
            "| 298969999|2025-01-06 00:00:00|  793|WEAPONS POSSESSION 3|  118|   DANGEROUS WEAPONS|PL 2650201|         F|          M|              5|               73|    25-44|       M|    WHITE|    983907|    199958|        40.715526|       -74.001238|POINT (-74.001238...|\n",
            "+----------+-------------------+-----+--------------------+-----+--------------------+----------+----------+-----------+---------------+-----------------+---------+--------+---------+----------+----------+-----------------+-----------------+--------------------+\n",
            "only showing top 5 rows\n",
            "\n"
          ]
        }
      ],
      "source": [
        "# Create Spark session\n",
        "sc = SparkContext.getOrCreate()\n",
        "spark = SparkSession(sc)\n",
        "\n",
        "# Load into Spark DataFrame\n",
        "df_spark = spark.read.option(\"header\", True).csv(fn_dst, inferSchema=True)\n",
        "\n",
        "# Print basic info\n",
        "print(\"Number of rows:\", df_spark.count())\n",
        "df_spark.printSchema()\n",
        "df_spark.show(5)"
      ]
    },
    {
      "cell_type": "markdown",
      "metadata": {
        "id": "E5V7wUimEBaO"
      },
      "source": [
        "## Data Profiling"
      ]
    },
    {
      "cell_type": "code",
      "execution_count": null,
      "metadata": {
        "id": "-fcEmWMnDysg"
      },
      "outputs": [],
      "source": [
        "#Using openclean for finding anomalies\n",
        "from openclean.pipeline import stream\n",
        "ds = stream(fn_dst)"
      ]
    },
    {
      "cell_type": "code",
      "execution_count": null,
      "metadata": {
        "id": "iy2jahcGhYNl"
      },
      "outputs": [],
      "source": [
        "#Creating profile of our dataset\n",
        "from openclean.profiling.column import DefaultColumnProfiler\n",
        "profiles = ds.profile(default_profiler=DefaultColumnProfiler)"
      ]
    },
    {
      "cell_type": "code",
      "execution_count": null,
      "metadata": {
        "colab": {
          "base_uri": "https://localhost:8080/",
          "height": 638
        },
        "id": "QM8dq12mhxIh",
        "outputId": "7afccf94-793a-46df-8b7f-008365c41639"
      },
      "outputs": [
        {
          "data": {
            "text/html": [
              "<div>\n",
              "<style scoped>\n",
              "    .dataframe tbody tr th:only-of-type {\n",
              "        vertical-align: middle;\n",
              "    }\n",
              "\n",
              "    .dataframe tbody tr th {\n",
              "        vertical-align: top;\n",
              "    }\n",
              "\n",
              "    .dataframe thead th {\n",
              "        text-align: right;\n",
              "    }\n",
              "</style>\n",
              "<table border=\"1\" class=\"dataframe\">\n",
              "  <thead>\n",
              "    <tr style=\"text-align: right;\">\n",
              "      <th></th>\n",
              "      <th>total</th>\n",
              "      <th>empty</th>\n",
              "      <th>distinct</th>\n",
              "      <th>uniqueness</th>\n",
              "      <th>entropy</th>\n",
              "    </tr>\n",
              "  </thead>\n",
              "  <tbody>\n",
              "    <tr>\n",
              "      <th>ARREST_KEY</th>\n",
              "      <td>5153369</td>\n",
              "      <td>0</td>\n",
              "      <td>5153369</td>\n",
              "      <td>1.000000e+00</td>\n",
              "      <td>22.297084</td>\n",
              "    </tr>\n",
              "    <tr>\n",
              "      <th>ARREST_DATE</th>\n",
              "      <td>5153369</td>\n",
              "      <td>0</td>\n",
              "      <td>5479</td>\n",
              "      <td>1.063188e-03</td>\n",
              "      <td>12.318990</td>\n",
              "    </tr>\n",
              "    <tr>\n",
              "      <th>PD_CD</th>\n",
              "      <td>5153369</td>\n",
              "      <td>284</td>\n",
              "      <td>334</td>\n",
              "      <td>6.481554e-05</td>\n",
              "      <td>5.583088</td>\n",
              "    </tr>\n",
              "    <tr>\n",
              "      <th>PD_DESC</th>\n",
              "      <td>5153369</td>\n",
              "      <td>9066</td>\n",
              "      <td>422</td>\n",
              "      <td>8.203249e-05</td>\n",
              "      <td>5.761536</td>\n",
              "    </tr>\n",
              "    <tr>\n",
              "      <th>KY_CD</th>\n",
              "      <td>5153369</td>\n",
              "      <td>9066</td>\n",
              "      <td>75</td>\n",
              "      <td>1.457923e-05</td>\n",
              "      <td>4.674493</td>\n",
              "    </tr>\n",
              "    <tr>\n",
              "      <th>OFNS_DESC</th>\n",
              "      <td>5153369</td>\n",
              "      <td>9066</td>\n",
              "      <td>87</td>\n",
              "      <td>1.691191e-05</td>\n",
              "      <td>4.464132</td>\n",
              "    </tr>\n",
              "    <tr>\n",
              "      <th>LAW_CODE</th>\n",
              "      <td>5153369</td>\n",
              "      <td>196</td>\n",
              "      <td>2440</td>\n",
              "      <td>4.734947e-04</td>\n",
              "      <td>6.468133</td>\n",
              "    </tr>\n",
              "    <tr>\n",
              "      <th>LAW_CAT_CD</th>\n",
              "      <td>5153369</td>\n",
              "      <td>18861</td>\n",
              "      <td>4</td>\n",
              "      <td>7.790425e-07</td>\n",
              "      <td>1.178222</td>\n",
              "    </tr>\n",
              "    <tr>\n",
              "      <th>ARREST_BORO</th>\n",
              "      <td>5153369</td>\n",
              "      <td>8</td>\n",
              "      <td>5</td>\n",
              "      <td>9.702406e-07</td>\n",
              "      <td>2.133827</td>\n",
              "    </tr>\n",
              "    <tr>\n",
              "      <th>ARREST_PRECINCT</th>\n",
              "      <td>5153369</td>\n",
              "      <td>0</td>\n",
              "      <td>78</td>\n",
              "      <td>1.513573e-05</td>\n",
              "      <td>6.062884</td>\n",
              "    </tr>\n",
              "    <tr>\n",
              "      <th>JURISDICTION_CODE</th>\n",
              "      <td>5153369</td>\n",
              "      <td>10</td>\n",
              "      <td>27</td>\n",
              "      <td>5.239301e-06</td>\n",
              "      <td>0.972811</td>\n",
              "    </tr>\n",
              "    <tr>\n",
              "      <th>AGE_GROUP</th>\n",
              "      <td>5153369</td>\n",
              "      <td>17</td>\n",
              "      <td>91</td>\n",
              "      <td>1.765841e-05</td>\n",
              "      <td>1.822887</td>\n",
              "    </tr>\n",
              "    <tr>\n",
              "      <th>PERP_SEX</th>\n",
              "      <td>5153369</td>\n",
              "      <td>0</td>\n",
              "      <td>2</td>\n",
              "      <td>3.880956e-07</td>\n",
              "      <td>0.652709</td>\n",
              "    </tr>\n",
              "    <tr>\n",
              "      <th>PERP_RACE</th>\n",
              "      <td>5153369</td>\n",
              "      <td>0</td>\n",
              "      <td>8</td>\n",
              "      <td>1.552383e-06</td>\n",
              "      <td>1.950125</td>\n",
              "    </tr>\n",
              "    <tr>\n",
              "      <th>X_COORD_CD</th>\n",
              "      <td>5153369</td>\n",
              "      <td>1</td>\n",
              "      <td>106465</td>\n",
              "      <td>2.065930e-02</td>\n",
              "      <td>14.004349</td>\n",
              "    </tr>\n",
              "    <tr>\n",
              "      <th>Y_COORD_CD</th>\n",
              "      <td>5153369</td>\n",
              "      <td>1</td>\n",
              "      <td>112014</td>\n",
              "      <td>2.173608e-02</td>\n",
              "      <td>14.117084</td>\n",
              "    </tr>\n",
              "    <tr>\n",
              "      <th>Latitude</th>\n",
              "      <td>5153369</td>\n",
              "      <td>1</td>\n",
              "      <td>128457</td>\n",
              "      <td>2.492681e-02</td>\n",
              "      <td>14.097179</td>\n",
              "    </tr>\n",
              "    <tr>\n",
              "      <th>Longitude</th>\n",
              "      <td>5153369</td>\n",
              "      <td>1</td>\n",
              "      <td>136092</td>\n",
              "      <td>2.640836e-02</td>\n",
              "      <td>14.135801</td>\n",
              "    </tr>\n",
              "    <tr>\n",
              "      <th>Lon_Lat</th>\n",
              "      <td>5153369</td>\n",
              "      <td>1</td>\n",
              "      <td>119133</td>\n",
              "      <td>2.311750e-02</td>\n",
              "      <td>14.042196</td>\n",
              "    </tr>\n",
              "  </tbody>\n",
              "</table>\n",
              "</div>"
            ],
            "text/plain": [
              "                     total  empty  distinct    uniqueness    entropy\n",
              "ARREST_KEY         5153369      0   5153369  1.000000e+00  22.297084\n",
              "ARREST_DATE        5153369      0      5479  1.063188e-03  12.318990\n",
              "PD_CD              5153369    284       334  6.481554e-05   5.583088\n",
              "PD_DESC            5153369   9066       422  8.203249e-05   5.761536\n",
              "KY_CD              5153369   9066        75  1.457923e-05   4.674493\n",
              "OFNS_DESC          5153369   9066        87  1.691191e-05   4.464132\n",
              "LAW_CODE           5153369    196      2440  4.734947e-04   6.468133\n",
              "LAW_CAT_CD         5153369  18861         4  7.790425e-07   1.178222\n",
              "ARREST_BORO        5153369      8         5  9.702406e-07   2.133827\n",
              "ARREST_PRECINCT    5153369      0        78  1.513573e-05   6.062884\n",
              "JURISDICTION_CODE  5153369     10        27  5.239301e-06   0.972811\n",
              "AGE_GROUP          5153369     17        91  1.765841e-05   1.822887\n",
              "PERP_SEX           5153369      0         2  3.880956e-07   0.652709\n",
              "PERP_RACE          5153369      0         8  1.552383e-06   1.950125\n",
              "X_COORD_CD         5153369      1    106465  2.065930e-02  14.004349\n",
              "Y_COORD_CD         5153369      1    112014  2.173608e-02  14.117084\n",
              "Latitude           5153369      1    128457  2.492681e-02  14.097179\n",
              "Longitude          5153369      1    136092  2.640836e-02  14.135801\n",
              "Lon_Lat            5153369      1    119133  2.311750e-02  14.042196"
            ]
          },
          "execution_count": 8,
          "metadata": {},
          "output_type": "execute_result"
        }
      ],
      "source": [
        "#CMPLNT_NUM, RPT_DT, KY_CD, LAW_CAT_CD have no null values\n",
        "profiles.stats()"
      ]
    },
    {
      "cell_type": "code",
      "execution_count": null,
      "metadata": {
        "colab": {
          "base_uri": "https://localhost:8080/"
        },
        "id": "Wa5PmWYqh8uj",
        "outputId": "1214ded5-9943-496f-96df-7e8c7451c34b"
      },
      "outputs": [
        {
          "data": {
            "text/plain": [
              "[('DANGEROUS DRUGS', 1088738),\n",
              " ('ASSAULT 3 & RELATED OFFENSES', 515608),\n",
              " ('OTHER OFFENSES RELATED TO THEFT', 304191),\n",
              " ('OTHER STATE LAWS', 241509),\n",
              " ('PETIT LARCENY', 221393),\n",
              " ('FELONY ASSAULT', 210233),\n",
              " ('VEHICLE AND TRAFFIC LAWS', 204881),\n",
              " ('CRIMINAL TRESPASS', 200983),\n",
              " ('DANGEROUS WEAPONS', 197557),\n",
              " ('MISCELLANEOUS PENAL LAW', 185927)]"
            ]
          },
          "execution_count": 9,
          "metadata": {},
          "output_type": "execute_result"
        }
      ],
      "source": [
        "# Print the most frequent values in column 'OFNS_DESC'\n",
        "\n",
        "profiles.column('OFNS_DESC').get('topValues')"
      ]
    },
    {
      "cell_type": "markdown",
      "metadata": {
        "id": "L-7JM6aWXzgV"
      },
      "source": [
        "## Create a sample dataset"
      ]
    },
    {
      "cell_type": "code",
      "source": [
        "df_spark=df_spark.sample(withReplacement=False, fraction=0.0003)"
      ],
      "metadata": {
        "id": "YAJVj0bD2xfU"
      },
      "execution_count": null,
      "outputs": []
    },
    {
      "cell_type": "code",
      "execution_count": null,
      "metadata": {
        "colab": {
          "base_uri": "https://localhost:8080/"
        },
        "id": "a79K8iFsFtK6",
        "outputId": "0ba5d57d-6235-4611-9919-3fd00ff48cc1"
      },
      "outputs": [
        {
          "output_type": "stream",
          "name": "stdout",
          "text": [
            "root\n",
            " |-- ARREST_KEY: integer (nullable = true)\n",
            " |-- ARREST_DATE: string (nullable = true)\n",
            " |-- PD_CD: integer (nullable = true)\n",
            " |-- PD_DESC: string (nullable = true)\n",
            " |-- KY_CD: integer (nullable = true)\n",
            " |-- OFNS_DESC: string (nullable = true)\n",
            " |-- LAW_CODE: string (nullable = true)\n",
            " |-- LAW_CAT_CD: string (nullable = true)\n",
            " |-- ARREST_BORO: string (nullable = true)\n",
            " |-- ARREST_PRECINCT: integer (nullable = true)\n",
            " |-- JURISDICTION_CODE: integer (nullable = true)\n",
            " |-- AGE_GROUP: string (nullable = true)\n",
            " |-- PERP_SEX: string (nullable = true)\n",
            " |-- PERP_RACE: string (nullable = true)\n",
            " |-- X_COORD_CD: double (nullable = true)\n",
            " |-- Y_COORD_CD: double (nullable = true)\n",
            " |-- Latitude: double (nullable = true)\n",
            " |-- Longitude: double (nullable = true)\n",
            " |-- Lon_Lat: string (nullable = true)\n",
            "\n"
          ]
        }
      ],
      "source": [
        "df_spark.printSchema()"
      ]
    },
    {
      "cell_type": "markdown",
      "source": [
        "## Relevant Matching Columns:\n",
        "\n",
        "1. ARREST_DATE\n",
        "2. ARREST_PRECINCT\n",
        "3. JURISDICTION_CODE\n",
        "4. ARREST_BORO\n",
        "5. Latitude\n",
        "6. Longitude\n",
        "7. Lon_Lat\n",
        "8. PERP_SEX\n",
        "9. PERP_RACE\n",
        "10. LAW_CAT_CD\n",
        "11. AGE_GROUP\n"
      ],
      "metadata": {
        "id": "pex6Q3UumZWM"
      }
    },
    {
      "cell_type": "code",
      "execution_count": null,
      "metadata": {
        "colab": {
          "base_uri": "https://localhost:8080/"
        },
        "id": "4DrO6RDuGJku",
        "outputId": "d458c5b9-ac6a-4865-d386-18dc3d2330b4"
      },
      "outputs": [
        {
          "output_type": "stream",
          "name": "stdout",
          "text": [
            "Lon Lat column samples: \n",
            "+--------------------+\n",
            "|             Lon_Lat|\n",
            "+--------------------+\n",
            "|POINT (-73.903320...|\n",
            "|POINT (-73.734760...|\n",
            "|POINT (-73.936252...|\n",
            "|POINT (-73.827329...|\n",
            "|POINT (-73.944004...|\n",
            "|POINT (-73.900591...|\n",
            "|POINT (-73.831129...|\n",
            "|POINT (-73.900388...|\n",
            "|POINT (-73.983941...|\n",
            "|POINT (-73.960854...|\n",
            "+--------------------+\n",
            "only showing top 10 rows\n",
            "\n",
            "None\n",
            "Latitude column samples: \n",
            "+------------------+\n",
            "|          Latitude|\n",
            "+------------------+\n",
            "| 40.88311992000007|\n",
            "|40.726293088000034|\n",
            "|40.840783858000066|\n",
            "|40.762043893000055|\n",
            "|40.819991180000045|\n",
            "| 40.85358740100003|\n",
            "| 40.69843969400006|\n",
            "| 40.84413994500005|\n",
            "| 40.71567057300007|\n",
            "| 40.59401905900006|\n",
            "+------------------+\n",
            "only showing top 10 rows\n",
            "\n",
            "None\n",
            "Longitude column samples: \n",
            "+------------------+\n",
            "|         Longitude|\n",
            "+------------------+\n",
            "|-73.90332096899994|\n",
            "|-73.73476084899994|\n",
            "|-73.93625260699997|\n",
            "|-73.82732958099996|\n",
            "|-73.94400425099997|\n",
            "|-73.90059135599995|\n",
            "|-73.83112953899996|\n",
            "|-73.90038861799997|\n",
            "|-73.98394174399994|\n",
            "|-73.96085431599994|\n",
            "+------------------+\n",
            "only showing top 10 rows\n",
            "\n",
            "None\n"
          ]
        }
      ],
      "source": [
        "#Check if there are redundant columns for latitude and longitude\n",
        "print(\"Lon Lat column samples: \")\n",
        "print(df_spark.select(\"Lon_Lat\").show(10))\n",
        "print(\"Latitude column samples: \")\n",
        "print(df_spark.select(\"Latitude\").show(10))\n",
        "print(\"Longitude column samples: \")\n",
        "print(df_spark.select(\"Longitude\").show(10))"
      ]
    },
    {
      "cell_type": "markdown",
      "metadata": {
        "id": "7aMXWfmZHTL1"
      },
      "source": [
        "We saw that the coordinates are redundant. So, we will remove the Latitude and Longitude columns"
      ]
    },
    {
      "cell_type": "code",
      "execution_count": null,
      "metadata": {
        "id": "nZhx_ANfHN5a"
      },
      "outputs": [],
      "source": [
        "df_spark=df_spark.drop(\"Lon_Lat\")\n"
      ]
    },
    {
      "cell_type": "markdown",
      "metadata": {
        "id": "-fkYpAoO002u"
      },
      "source": [
        "# Replacing Missing AND Null values of race, sex and age group of victim and suspect with \"UNKNOWN\"\n"
      ]
    },
    {
      "cell_type": "code",
      "source": [
        "df_spark = df_spark.na.fill(\"U\",subset=[\"PERP_SEX\"])"
      ],
      "metadata": {
        "id": "dXqXHjq20yUO"
      },
      "execution_count": null,
      "outputs": []
    },
    {
      "cell_type": "code",
      "source": [
        "df_spark = df_spark.na.fill(\"UNKNOWN\",subset=[\"PERP_RACE\"])"
      ],
      "metadata": {
        "id": "TlOY5_7F0yxT"
      },
      "execution_count": null,
      "outputs": []
    },
    {
      "cell_type": "code",
      "source": [
        "df_spark = df_spark.na.fill(\"UNKNOWN\",subset=[\"AGE_GROUP\"])"
      ],
      "metadata": {
        "id": "MRkbVqelZalP"
      },
      "execution_count": null,
      "outputs": []
    },
    {
      "cell_type": "code",
      "source": [
        "df_spark.count()"
      ],
      "metadata": {
        "colab": {
          "base_uri": "https://localhost:8080/"
        },
        "id": "96fOymwarvjR",
        "outputId": "81394074-5ec0-4612-a838-5ac557431c26"
      },
      "execution_count": null,
      "outputs": [
        {
          "output_type": "execute_result",
          "data": {
            "text/plain": [
              "1553"
            ]
          },
          "metadata": {},
          "execution_count": 74
        }
      ]
    },
    {
      "cell_type": "markdown",
      "metadata": {
        "id": "XDzSqDM_0WIl"
      },
      "source": [
        "# Cleaning the columns associated with the Level of offence-\n",
        "1. LAW_CAT_CD"
      ]
    },
    {
      "cell_type": "code",
      "source": [
        "df_tempo=df_spark.rdd"
      ],
      "metadata": {
        "id": "MypBWfQh8fM_"
      },
      "execution_count": null,
      "outputs": []
    },
    {
      "cell_type": "code",
      "execution_count": null,
      "metadata": {
        "id": "RQ-bDdtW0WIm"
      },
      "outputs": [],
      "source": [
        "#offense should belong to one of the categories- 'FELONY',\"MISDEMEANOR\",\"VIOLATION\"\n",
        "def level_of_offence_check(offence):\n",
        "    if offence==\"\" or offence==\" \" or offence==None:\n",
        "        return False\n",
        "    else:\n",
        "        crimes_list=['F',\"M\",\"V\"]\n",
        "        if offence not in crimes_list:\n",
        "            return False\n",
        "        else :\n",
        "            return True"
      ]
    },
    {
      "cell_type": "code",
      "execution_count": null,
      "metadata": {
        "id": "rhD_527O0WIm"
      },
      "outputs": [],
      "source": [
        "#Filtering offence\n",
        "offense_filtered_df=df_tempo.map(lambda x:(x, level_of_offence_check(x[7]))).filter(lambda x: x[1]==True)\n",
        "temp=offense_filtered_df.map(lambda x: x[0])"
      ]
    },
    {
      "cell_type": "code",
      "execution_count": null,
      "metadata": {
        "colab": {
          "base_uri": "https://localhost:8080/"
        },
        "outputId": "acd4a04d-9150-4730-e0fb-dc0271d4e6d5",
        "id": "OIubwGXH0WIm"
      },
      "outputs": [
        {
          "output_type": "execute_result",
          "data": {
            "text/plain": [
              "1537"
            ]
          },
          "metadata": {},
          "execution_count": 78
        }
      ],
      "source": [
        "#Count of filtered or cleaned data available\n",
        "temp.count()"
      ]
    },
    {
      "cell_type": "markdown",
      "metadata": {
        "id": "LFZz3XHn0WIm"
      },
      "source": [
        "# Cleaning the columns associated with Perpetrator's age group-"
      ]
    },
    {
      "cell_type": "code",
      "execution_count": null,
      "metadata": {
        "id": "zarQxWFA0WIn"
      },
      "outputs": [],
      "source": [
        "#Checking if age is not negative or greater than 100\n",
        "def to_check_age(age):\n",
        "    if age != None and age != \" \":\n",
        "      try:\n",
        "        age_list = [\"25-44\", \"18-24\", \"45-64\", \"<18\", \"65+\",\"UNKNOWN\"]\n",
        "        if age not in age_list:\n",
        "          return False\n",
        "        else:\n",
        "          return True\n",
        "      except:\n",
        "        return True\n",
        "    return True"
      ]
    },
    {
      "cell_type": "code",
      "execution_count": null,
      "metadata": {
        "id": "GZTjYau00WIn"
      },
      "outputs": [],
      "source": [
        "#Filtering invalid age of suspect\n",
        "suspect_age_filtered_df=temp.map(lambda x:(x, to_check_age(x[11]))).filter(lambda x: x[1]==True)\n",
        "temp=suspect_age_filtered_df.map(lambda x: x[0])"
      ]
    },
    {
      "cell_type": "code",
      "execution_count": null,
      "metadata": {
        "colab": {
          "base_uri": "https://localhost:8080/"
        },
        "outputId": "2c6a9e4a-06e7-4b3f-a503-f1be12cda59e",
        "id": "PLzzfyhw0WIn"
      },
      "outputs": [
        {
          "output_type": "execute_result",
          "data": {
            "text/plain": [
              "1537"
            ]
          },
          "metadata": {},
          "execution_count": 81
        }
      ],
      "source": [
        "#Count of filtered or cleaned data available\n",
        "temp.count()"
      ]
    },
    {
      "cell_type": "markdown",
      "source": [
        "#6. Reverse Geocoding the boroughs using latitudes and longitudes.\n",
        "\n",
        "1. First we will remove the rows where latitude, longitude and boroughs are null. (around 450 tuples removed)\n",
        "2. Then, where the boroughs are empty, take the latitude and longitude value and reverse geocode it using the module \"reverseGeocoder\".\n",
        "3. Impute the borough name retrived in the empty space."
      ],
      "metadata": {
        "id": "WjgCv26iwhwr"
      }
    },
    {
      "cell_type": "code",
      "source": [
        "df_temp_boro_clean=df_spark.filter((df_spark.Latitude.isNotNull()) & (df_spark.Longitude.isNotNull()))"
      ],
      "metadata": {
        "id": "bDF18fmG3HUN"
      },
      "execution_count": null,
      "outputs": []
    },
    {
      "cell_type": "code",
      "source": [
        "boro_cleaner=df_temp_boro_clean.filter(df_temp_boro_clean.ARREST_BORO.isNull())"
      ],
      "metadata": {
        "id": "TGHjp1stbYZW"
      },
      "execution_count": null,
      "outputs": []
    },
    {
      "cell_type": "code",
      "source": [
        "boro_cleaner.count()"
      ],
      "metadata": {
        "colab": {
          "base_uri": "https://localhost:8080/"
        },
        "id": "fU5POtzGrXhk",
        "outputId": "d59b528d-d2ec-4f47-920e-2774fa333690"
      },
      "execution_count": null,
      "outputs": [
        {
          "output_type": "execute_result",
          "data": {
            "text/plain": [
              "0"
            ]
          },
          "metadata": {},
          "execution_count": 86
        }
      ]
    },
    {
      "cell_type": "markdown",
      "metadata": {
        "id": "T5wa-CYf0WIm"
      },
      "source": [
        "\n",
        "# Cleaning the columns associated with the valid borough name-\n",
        "1. BORO_NM"
      ]
    },
    {
      "cell_type": "code",
      "execution_count": null,
      "metadata": {
        "id": "GvWmzfxq0WIm"
      },
      "outputs": [],
      "source": [
        "#Complaint should be registered in a valid NYC borough\n",
        "def valid_borough_check(borough):\n",
        "    if borough==None or borough==\"\" or borough==\" \":\n",
        "        return False\n",
        "    else:\n",
        "        borough_names=[\"M\",'B',\"K\",\"Q\",\"S\"]\n",
        "        if borough not in borough_names:\n",
        "            return False\n",
        "        else :\n",
        "            return True"
      ]
    },
    {
      "cell_type": "code",
      "execution_count": null,
      "metadata": {
        "id": "nQMqitT00WIm"
      },
      "outputs": [],
      "source": [
        "borough_filtered_df=temp.map(lambda x:(x, valid_borough_check(x[8]))).filter(lambda x: x[1]==True)\n",
        "temp=borough_filtered_df.map(lambda x: x[0])"
      ]
    },
    {
      "cell_type": "code",
      "execution_count": null,
      "metadata": {
        "colab": {
          "base_uri": "https://localhost:8080/"
        },
        "outputId": "4e7ff326-bc81-4f8d-c354-f2d3105380d2",
        "id": "l8DSnPIa0WIm"
      },
      "outputs": [
        {
          "output_type": "execute_result",
          "data": {
            "text/plain": [
              "1537"
            ]
          },
          "metadata": {},
          "execution_count": 89
        }
      ],
      "source": [
        "#Count of filtered or cleaned data available\n",
        "temp.count()"
      ]
    },
    {
      "cell_type": "markdown",
      "metadata": {
        "id": "voi499YE0WIn"
      },
      "source": [
        "# Cleaning the columns associated with the valid Latitude and Longitude-\n",
        "\n",
        "1. Lat_Lon"
      ]
    },
    {
      "cell_type": "code",
      "execution_count": null,
      "metadata": {
        "id": "5GRiJKsJ0WIn"
      },
      "outputs": [],
      "source": [
        "#Checking the validity of coordinates\n",
        "class Point:\n",
        "    def __init__(self,x,y):\n",
        "        self.x = x\n",
        "        self.y = y\n",
        "\n",
        "#Bounding Box Lat details for NYC\n",
        "lat_max=40.917577\n",
        "lat_min=40.477399\n",
        "long_max=-73.700009\n",
        "long_min=-74.25909\n",
        "\n",
        "#Function to check validity of Lat values\n",
        "def to_check_long(x):\n",
        "  try:\n",
        "    if x== \"\" or x== \" \"or x==None:\n",
        "      return False\n",
        "    elif (long_min<x) and (x<long_max):\n",
        "      return True\n",
        "    else:\n",
        "      return False\n",
        "  except ValueError:\n",
        "    return False\n",
        "\n",
        "#Function to check validity of Lat values\n",
        "def to_check_lat(x):\n",
        "  try:\n",
        "    if x== \"\" or x== \" \"or x==None:\n",
        "      return False\n",
        "    elif (lat_min<x) and (x<lat_max):\n",
        "      return True\n",
        "    else:\n",
        "      return False\n",
        "  except ValueError:\n",
        "    return False"
      ]
    },
    {
      "cell_type": "code",
      "execution_count": null,
      "metadata": {
        "id": "6RhuM5880WIn"
      },
      "outputs": [],
      "source": [
        "#Filtering the latitude and longitude that is invalid or is outside NYC\n",
        "latlong_filtered_df=temp.map(lambda x:(x, to_check_lat(x[16]))).filter(lambda x: x[1]==True)\n",
        "temp=latlong_filtered_df.map(lambda x: x[0])\n",
        "latlong_filtered_df=temp.map(lambda x:(x, to_check_long(x[17]))).filter(lambda x: x[1]==True)\n",
        "temp=latlong_filtered_df.map(lambda x: x[0])"
      ]
    },
    {
      "cell_type": "code",
      "execution_count": null,
      "metadata": {
        "colab": {
          "base_uri": "https://localhost:8080/"
        },
        "outputId": "4fdf093a-a3a5-4ff5-87e3-6078d03de122",
        "id": "PhUGYrgV0WIn"
      },
      "outputs": [
        {
          "output_type": "execute_result",
          "data": {
            "text/plain": [
              "1534"
            ]
          },
          "metadata": {},
          "execution_count": 92
        }
      ],
      "source": [
        "#Count of filtered or cleaned data available\n",
        "temp.count()"
      ]
    },
    {
      "cell_type": "code",
      "source": [
        "temp.top(100)"
      ],
      "metadata": {
        "colab": {
          "base_uri": "https://localhost:8080/"
        },
        "id": "GWBA1hHUD19O",
        "outputId": "7869be58-6d0a-4908-dc8f-22cd1d376d8a"
      },
      "execution_count": null,
      "outputs": [
        {
          "output_type": "execute_result",
          "data": {
            "text/plain": [
              "[Row(ARREST_KEY=222321641, ARREST_DATE='12/28/2020', PD_CD=244, PD_DESC='BURGLARY,UNCLASSIFIED,UNKNOWN', KY_CD=107, OFNS_DESC='BURGLARY', LAW_CODE='PL 1402000', LAW_CAT_CD='F', ARREST_BORO='B', ARREST_PRECINCT=48, JURISDICTION_CODE=0, AGE_GROUP='45-64', PERP_SEX='M', PERP_RACE='WHITE HISPANIC', X_COORD_CD=1011811.0, Y_COORD_CD=246833.0, Latitude=40.844139945000045, Longitude=-73.90038861799998),\n",
              " Row(ARREST_KEY=222043404, ARREST_DATE='12/20/2020', PD_CD=101, PD_DESC='ASSAULT 3', KY_CD=344, OFNS_DESC='ASSAULT 3 & RELATED OFFENSES', LAW_CODE='PL 1200001', LAW_CAT_CD='M', ARREST_BORO='M', ARREST_PRECINCT=17, JURISDICTION_CODE=0, AGE_GROUP='25-44', PERP_SEX='M', PERP_RACE='WHITE HISPANIC', X_COORD_CD=991329.0, Y_COORD_CD=212802.0, Latitude=40.75077427200006, Longitude=-73.97445191099996),\n",
              " Row(ARREST_KEY=221927669, ARREST_DATE='12/16/2020', PD_CD=339, PD_DESC='LARCENY,PETIT FROM OPEN AREAS,', KY_CD=341, OFNS_DESC='PETIT LARCENY', LAW_CODE='PL 1552500', LAW_CAT_CD='M', ARREST_BORO='B', ARREST_PRECINCT=42, JURISDICTION_CODE=0, AGE_GROUP='25-44', PERP_SEX='M', PERP_RACE='BLACK', X_COORD_CD=1015687.0, Y_COORD_CD=244209.0, Latitude=40.83692488600008, Longitude=-73.88639202999997),\n",
              " Row(ARREST_KEY=221608922, ARREST_DATE='12/10/2020', PD_CD=109, PD_DESC='ASSAULT 2,1,UNCLASSIFIED', KY_CD=106, OFNS_DESC='FELONY ASSAULT', LAW_CODE='PL 1200501', LAW_CAT_CD='F', ARREST_BORO='S', ARREST_PRECINCT=121, JURISDICTION_CODE=0, AGE_GROUP='25-44', PERP_SEX='F', PERP_RACE='BLACK', X_COORD_CD=942428.0, Y_COORD_CD=166536.0, Latitude=40.62368882200008, Longitude=-74.15065813299998),\n",
              " Row(ARREST_KEY=221532919, ARREST_DATE='12/08/2020', PD_CD=339, PD_DESC='LARCENY,PETIT FROM OPEN AREAS,', KY_CD=341, OFNS_DESC='PETIT LARCENY', LAW_CODE='PL 1552500', LAW_CAT_CD='M', ARREST_BORO='M', ARREST_PRECINCT=14, JURISDICTION_CODE=15, AGE_GROUP='25-44', PERP_SEX='M', PERP_RACE='WHITE', X_COORD_CD=986781.0, Y_COORD_CD=212761.0, Latitude=40.750664208000046, Longitude=-73.99086657499998),\n",
              " Row(ARREST_KEY=220820878, ARREST_DATE='11/21/2020', PD_CD=113, PD_DESC='MENACING,UNCLASSIFIED', KY_CD=344, OFNS_DESC='ASSAULT 3 & RELATED OFFENSES', LAW_CODE='PL 1201401', LAW_CAT_CD='M', ARREST_BORO='K', ARREST_PRECINCT=66, JURISDICTION_CODE=0, AGE_GROUP='25-44', PERP_SEX='M', PERP_RACE='ASIAN / PACIFIC ISLANDER', X_COORD_CD=988424.0, Y_COORD_CD=171883.0, Latitude=40.63846294700004, Longitude=-73.98496199099996),\n",
              " Row(ARREST_KEY=220155282, ARREST_DATE='11/06/2020', PD_CD=101, PD_DESC='ASSAULT 3', KY_CD=344, OFNS_DESC='ASSAULT 3 & RELATED OFFENSES', LAW_CODE='PL 1200001', LAW_CAT_CD='M', ARREST_BORO='B', ARREST_PRECINCT=40, JURISDICTION_CODE=0, AGE_GROUP='25-44', PERP_SEX='M', PERP_RACE='WHITE HISPANIC', X_COORD_CD=1006853.0, Y_COORD_CD=233369.0, Latitude=40.80719918600005, Longitude=-73.91835350199995),\n",
              " Row(ARREST_KEY=219975148, ARREST_DATE='11/01/2020', PD_CD=101, PD_DESC='ASSAULT 3', KY_CD=344, OFNS_DESC='ASSAULT 3 & RELATED OFFENSES', LAW_CODE='PL 1200001', LAW_CAT_CD='M', ARREST_BORO='K', ARREST_PRECINCT=70, JURISDICTION_CODE=0, AGE_GROUP='18-24', PERP_SEX='F', PERP_RACE='ASIAN / PACIFIC ISLANDER', X_COORD_CD=994415.0, Y_COORD_CD=172681.0, Latitude=40.64064843800003, Longitude=-73.96337445699999),\n",
              " Row(ARREST_KEY=217468936, ARREST_DATE='09/05/2020', PD_CD=114, PD_DESC='OBSTR BREATH/CIRCUL', KY_CD=344, OFNS_DESC='ASSAULT 3 & RELATED OFFENSES', LAW_CODE='PL 1211100', LAW_CAT_CD='M', ARREST_BORO='B', ARREST_PRECINCT=48, JURISDICTION_CODE=0, AGE_GROUP='18-24', PERP_SEX='M', PERP_RACE='BLACK', X_COORD_CD=1013901.0, Y_COORD_CD=246045.0, Latitude=40.84197034600004, Longitude=-73.89283828899994),\n",
              " Row(ARREST_KEY=217465365, ARREST_DATE='09/05/2020', PD_CD=109, PD_DESC='ASSAULT 2,1,UNCLASSIFIED', KY_CD=106, OFNS_DESC='FELONY ASSAULT', LAW_CODE='PL 1200512', LAW_CAT_CD='F', ARREST_BORO='Q', ARREST_PRECINCT=105, JURISDICTION_CODE=0, AGE_GROUP='25-44', PERP_SEX='M', PERP_RACE='BLACK', X_COORD_CD=1057767.0, Y_COORD_CD=203993.0, Latitude=40.726293088000034, Longitude=-73.73476084899994),\n",
              " Row(ARREST_KEY=216968086, ARREST_DATE='08/25/2020', PD_CD=101, PD_DESC='ASSAULT 3', KY_CD=344, OFNS_DESC='ASSAULT 3 & RELATED OFFENSES', LAW_CODE='PL 1200001', LAW_CAT_CD='M', ARREST_BORO='Q', ARREST_PRECINCT=106, JURISDICTION_CODE=0, AGE_GROUP='18-24', PERP_SEX='F', PERP_RACE='BLACK', X_COORD_CD=1034640.0, Y_COORD_CD=184856.0, Latitude=40.67392857400005, Longitude=-73.81834320199994),\n",
              " Row(ARREST_KEY=216360261, ARREST_DATE='08/09/2020', PD_CD=101, PD_DESC='ASSAULT 3', KY_CD=344, OFNS_DESC='ASSAULT 3 & RELATED OFFENSES', LAW_CODE='PL 1200001', LAW_CAT_CD='M', ARREST_BORO='M', ARREST_PRECINCT=30, JURISDICTION_CODE=0, AGE_GROUP='45-64', PERP_SEX='M', PERP_RACE='WHITE HISPANIC', X_COORD_CD=998633.0, Y_COORD_CD=240619.0, Latitude=40.827115607000046, Longitude=-73.94803074699998),\n",
              " Row(ARREST_KEY=215862712, ARREST_DATE='07/28/2020', PD_CD=339, PD_DESC='LARCENY,PETIT FROM OPEN AREAS,', KY_CD=341, OFNS_DESC='PETIT LARCENY', LAW_CODE='PL 1552500', LAW_CAT_CD='M', ARREST_BORO='M', ARREST_PRECINCT=14, JURISDICTION_CODE=0, AGE_GROUP='45-64', PERP_SEX='F', PERP_RACE='BLACK', X_COORD_CD=987220.0, Y_COORD_CD=212676.0, Latitude=40.75043076800005, Longitude=-73.98928217599996),\n",
              " Row(ARREST_KEY=214278741, ARREST_DATE='06/17/2020', PD_CD=439, PD_DESC='LARCENY,GRAND FROM OPEN AREAS, UNATTENDED', KY_CD=109, OFNS_DESC='GRAND LARCENY', LAW_CODE='PL 1553001', LAW_CAT_CD='F', ARREST_BORO='K', ARREST_PRECINCT=90, JURISDICTION_CODE=0, AGE_GROUP='25-44', PERP_SEX='M', PERP_RACE='WHITE', X_COORD_CD=994313.0, Y_COORD_CD=198746.0, Latitude=40.71219110200008, Longitude=-73.96370307499996),\n",
              " Row(ARREST_KEY=214151820, ARREST_DATE='06/13/2020', PD_CD=109, PD_DESC='ASSAULT 2,1,UNCLASSIFIED', KY_CD=106, OFNS_DESC='FELONY ASSAULT', LAW_CODE='PL 1200502', LAW_CAT_CD='F', ARREST_BORO='B', ARREST_PRECINCT=41, JURISDICTION_CODE=0, AGE_GROUP='25-44', PERP_SEX='F', PERP_RACE='WHITE HISPANIC', X_COORD_CD=1015546.0, Y_COORD_CD=236659.0, Latitude=40.81620280100003, Longitude=-73.886936802),\n",
              " Row(ARREST_KEY=214027811, ARREST_DATE='06/10/2020', PD_CD=441, PD_DESC='LARCENY,GRAND OF AUTO', KY_CD=110, OFNS_DESC='GRAND LARCENY OF MOTOR VEHICLE', LAW_CODE='PL 1553008', LAW_CAT_CD='F', ARREST_BORO='Q', ARREST_PRECINCT=106, JURISDICTION_CODE=0, AGE_GROUP='<18', PERP_SEX='M', PERP_RACE='BLACK HISPANIC', X_COORD_CD=1027833.0, Y_COORD_CD=179627.0, Latitude=40.65961228000003, Longitude=-73.84291649299998),\n",
              " Row(ARREST_KEY=213744401, ARREST_DATE='06/01/2020', PD_CD=750, PD_DESC='RESISTING ARREST', KY_CD=359, OFNS_DESC='OFFENSES AGAINST PUBLIC ADMINI', LAW_CODE='PL 2053000', LAW_CAT_CD='M', ARREST_BORO='K', ARREST_PRECINCT=88, JURISDICTION_CODE=0, AGE_GROUP='25-44', PERP_SEX='M', PERP_RACE='BLACK', X_COORD_CD=994019.0, Y_COORD_CD=188128.0, Latitude=40.683047491000025, Longitude=-73.96477896299997),\n",
              " Row(ARREST_KEY=213744238, ARREST_DATE='06/01/2020', PD_CD=490, PD_DESC='STOLEN PROPERTY 3,POSSESSION', KY_CD=232, OFNS_DESC='POSSESSION OF STOLEN PROPERTY', LAW_CODE='PL 1654000', LAW_CAT_CD='M', ARREST_BORO='M', ARREST_PRECINCT=9, JURISDICTION_CODE=0, AGE_GROUP='25-44', PERP_SEX='M', PERP_RACE='BLACK', X_COORD_CD=985877.0, Y_COORD_CD=204011.0, Latitude=40.72664783500005, Longitude=-73.99413140199994),\n",
              " Row(ARREST_KEY=213252570, ARREST_DATE='05/19/2020', PD_CD=106, PD_DESC='ASSAULT POLICE/PEACE OFFICER', KY_CD=106, OFNS_DESC='FELONY ASSAULT', LAW_CODE='PL 12005A3', LAW_CAT_CD='F', ARREST_BORO='M', ARREST_PRECINCT=14, JURISDICTION_CODE=15, AGE_GROUP='25-44', PERP_SEX='M', PERP_RACE='BLACK', X_COORD_CD=986455.0, Y_COORD_CD=213102.0, Latitude=40.75160025400004, Longitude=-73.99204306099993),\n",
              " Row(ARREST_KEY=212612145, ARREST_DATE='05/02/2020', PD_CD=750, PD_DESC='RESISTING ARREST', KY_CD=359, OFNS_DESC='OFFENSES AGAINST PUBLIC ADMINI', LAW_CODE='PL 2053000', LAW_CAT_CD='M', ARREST_BORO='K', ARREST_PRECINCT=73, JURISDICTION_CODE=0, AGE_GROUP='25-44', PERP_SEX='M', PERP_RACE='BLACK', X_COORD_CD=1006376.0, Y_COORD_CD=181512.0, Latitude=40.66486580000004, Longitude=-73.92024708999998),\n",
              " Row(ARREST_KEY=212209083, ARREST_DATE='04/21/2020', PD_CD=293, PD_DESC='CONSPIRACY 2, 1', KY_CD=126, OFNS_DESC='MISCELLANEOUS PENAL LAW', LAW_CODE='PL 1051500', LAW_CAT_CD='F', ARREST_BORO='M', ARREST_PRECINCT=5, JURISDICTION_CODE=0, AGE_GROUP='25-44', PERP_SEX='M', PERP_RACE='WHITE HISPANIC', X_COORD_CD=984984.0, Y_COORD_CD=200116.0, Latitude=40.71595711700007, Longitude=-73.997353676),\n",
              " Row(ARREST_KEY=211968601, ARREST_DATE='04/13/2020', PD_CD=244, PD_DESC='BURGLARY,UNCLASSIFIED,UNKNOWN', KY_CD=107, OFNS_DESC='BURGLARY', LAW_CODE='PL 1402000', LAW_CAT_CD='F', ARREST_BORO='B', ARREST_PRECINCT=40, JURISDICTION_CODE=0, AGE_GROUP='25-44', PERP_SEX='M', PERP_RACE='BLACK HISPANIC', X_COORD_CD=1009374.0, Y_COORD_CD=235406.0, Latitude=40.81278337600002, Longitude=-73.90923937299993),\n",
              " Row(ARREST_KEY=211215940, ARREST_DATE='03/18/2020', PD_CD=101, PD_DESC='ASSAULT 3', KY_CD=344, OFNS_DESC='ASSAULT 3 & RELATED OFFENSES', LAW_CODE='PL 1200001', LAW_CAT_CD='M', ARREST_BORO='M', ARREST_PRECINCT=23, JURISDICTION_CODE=0, AGE_GROUP='25-44', PERP_SEX='M', PERP_RACE='BLACK HISPANIC', X_COORD_CD=997462.0, Y_COORD_CD=227024.0, Latitude=40.789802923000025, Longitude=-73.95228872499997),\n",
              " Row(ARREST_KEY=210988191, ARREST_DATE='03/13/2020', PD_CD=849, PD_DESC='NY STATE LAWS,UNCLASSIFIED VIO', KY_CD=677, OFNS_DESC='OTHER STATE LAWS', LAW_CODE='LOC000000V', LAW_CAT_CD='V', ARREST_BORO='K', ARREST_PRECINCT=60, JURISDICTION_CODE=1, AGE_GROUP='25-44', PERP_SEX='M', PERP_RACE='WHITE HISPANIC', X_COORD_CD=989472.0, Y_COORD_CD=148971.0, Latitude=40.57557363000007, Longitude=-73.98120362499998),\n",
              " Row(ARREST_KEY=210812652, ARREST_DATE='03/10/2020', PD_CD=922, PD_DESC='TRAFFIC,UNCLASSIFIED MISDEMEAN', KY_CD=348, OFNS_DESC='VEHICLE AND TRAFFIC LAWS', LAW_CODE='VTL0511002', LAW_CAT_CD='M', ARREST_BORO='K', ARREST_PRECINCT=78, JURISDICTION_CODE=0, AGE_GROUP='18-24', PERP_SEX='F', PERP_RACE='BLACK', X_COORD_CD=990421.0, Y_COORD_CD=188642.0, Latitude=40.68446154300005, Longitude=-73.97775120999995),\n",
              " Row(ARREST_KEY=210633828, ARREST_DATE='03/07/2020', PD_CD=503, PD_DESC='CONTROLLED SUBSTANCE,INTENT TO', KY_CD=117, OFNS_DESC='DANGEROUS DRUGS', LAW_CODE='PL 2201601', LAW_CAT_CD='F', ARREST_BORO='K', ARREST_PRECINCT=60, JURISDICTION_CODE=0, AGE_GROUP='45-64', PERP_SEX='M', PERP_RACE='WHITE', X_COORD_CD=994441.0, Y_COORD_CD=152064.0, Latitude=40.58405898700005, Longitude=-73.96331188399995),\n",
              " Row(ARREST_KEY=210117103, ARREST_DATE='02/26/2020', PD_CD=779, PD_DESC='PUBLIC ADMINISTRATION,UNCLASSI', KY_CD=126, OFNS_DESC='MISCELLANEOUS PENAL LAW', LAW_CODE='PL 215510D', LAW_CAT_CD='F', ARREST_BORO='Q', ARREST_PRECINCT=114, JURISDICTION_CODE=0, AGE_GROUP='25-44', PERP_SEX='M', PERP_RACE='BLACK HISPANIC', X_COORD_CD=1007694.0, Y_COORD_CD=219657.0, Latitude=40.76956124200007, Longitude=-73.91536344699995),\n",
              " Row(ARREST_KEY=209940062, ARREST_DATE='02/22/2020', PD_CD=339, PD_DESC='LARCENY,PETIT FROM OPEN AREAS,', KY_CD=341, OFNS_DESC='PETIT LARCENY', LAW_CODE='PL 1552500', LAW_CAT_CD='M', ARREST_BORO='K', ARREST_PRECINCT=70, JURISDICTION_CODE=0, AGE_GROUP='45-64', PERP_SEX='F', PERP_RACE='BLACK', X_COORD_CD=994620.0, Y_COORD_CD=175951.0, Latitude=40.64962364600007, Longitude=-73.96263076599996),\n",
              " Row(ARREST_KEY=209844863, ARREST_DATE='02/20/2020', PD_CD=203, PD_DESC='TRESPASS 3, CRIMINAL', KY_CD=352, OFNS_DESC='CRIMINAL TRESPASS', LAW_CODE='PL 140100A', LAW_CAT_CD='M', ARREST_BORO='M', ARREST_PRECINCT=18, JURISDICTION_CODE=1, AGE_GROUP='65+', PERP_SEX='M', PERP_RACE='BLACK', X_COORD_CD=989545.0, Y_COORD_CD=215900.0, Latitude=40.75927874300004, Longitude=-73.98088828799997),\n",
              " Row(ARREST_KEY=209599618, ARREST_DATE='02/15/2020', PD_CD=106, PD_DESC='ASSAULT POLICE/PEACE OFFICER', KY_CD=106, OFNS_DESC='FELONY ASSAULT', LAW_CODE='PL 12005A3', LAW_CAT_CD='F', ARREST_BORO='M', ARREST_PRECINCT=6, JURISDICTION_CODE=0, AGE_GROUP='25-44', PERP_SEX='M', PERP_RACE='WHITE', X_COORD_CD=985588.0, Y_COORD_CD=204509.0, Latitude=40.72801477300004, Longitude=-73.99517398499995),\n",
              " Row(ARREST_KEY=209579688, ARREST_DATE='02/15/2020', PD_CD=397, PD_DESC='ROBBERY,OPEN AREA UNCLASSIFIED', KY_CD=105, OFNS_DESC='ROBBERY', LAW_CODE='PL 160102A', LAW_CAT_CD='F', ARREST_BORO='B', ARREST_PRECINCT=52, JURISDICTION_CODE=0, AGE_GROUP='25-44', PERP_SEX='M', PERP_RACE='BLACK', X_COORD_CD=1013049.0, Y_COORD_CD=253439.0, Latitude=40.86226749000008, Longitude=-73.89588578099993),\n",
              " Row(ARREST_KEY=209196700, ARREST_DATE='02/07/2020', PD_CD=101, PD_DESC='ASSAULT 3', KY_CD=344, OFNS_DESC='ASSAULT 3 & RELATED OFFENSES', LAW_CODE='PL 1200001', LAW_CAT_CD='M', ARREST_BORO='K', ARREST_PRECINCT=88, JURISDICTION_CODE=0, AGE_GROUP='45-64', PERP_SEX='F', PERP_RACE='BLACK', X_COORD_CD=991494.0, Y_COORD_CD=190110.0, Latitude=40.688490055000045, Longitude=-73.97388081099997),\n",
              " Row(ARREST_KEY=208918771, ARREST_DATE='02/03/2020', PD_CD=109, PD_DESC='ASSAULT 2,1,UNCLASSIFIED', KY_CD=106, OFNS_DESC='FELONY ASSAULT', LAW_CODE='PL 1200501', LAW_CAT_CD='F', ARREST_BORO='M', ARREST_PRECINCT=5, JURISDICTION_CODE=0, AGE_GROUP='25-44', PERP_SEX='M', PERP_RACE='BLACK', X_COORD_CD=983907.0, Y_COORD_CD=199959.0, Latitude=40.71552621300003, Longitude=-74.00123874799993),\n",
              " Row(ARREST_KEY=208775606, ARREST_DATE='01/30/2020', PD_CD=244, PD_DESC='BURGLARY,UNCLASSIFIED,UNKNOWN', KY_CD=107, OFNS_DESC='BURGLARY', LAW_CODE='PL 1402000', LAW_CAT_CD='F', ARREST_BORO='M', ARREST_PRECINCT=19, JURISDICTION_CODE=0, AGE_GROUP='45-64', PERP_SEX='M', PERP_RACE='WHITE', X_COORD_CD=996773.0, Y_COORD_CD=223149.0, Latitude=40.77916808200007, Longitude=-73.95478414599995),\n",
              " Row(ARREST_KEY=208181948, ARREST_DATE='01/20/2020', PD_CD=462, PD_DESC='UNAUTHORIZED USE VEHICLE 3', KY_CD=353, OFNS_DESC='UNAUTHORIZED USE OF A VEHICLE', LAW_CODE='PL 1650501', LAW_CAT_CD='M', ARREST_BORO='Q', ARREST_PRECINCT=105, JURISDICTION_CODE=0, AGE_GROUP='18-24', PERP_SEX='F', PERP_RACE='WHITE HISPANIC', X_COORD_CD=1057767.0, Y_COORD_CD=203993.0, Latitude=40.726293088000034, Longitude=-73.73476084899994),\n",
              " Row(ARREST_KEY=208178688, ARREST_DATE='01/19/2020', PD_CD=922, PD_DESC='TRAFFIC,UNCLASSIFIED MISDEMEAN', KY_CD=348, OFNS_DESC='VEHICLE AND TRAFFIC LAWS', LAW_CODE='VTL0511001', LAW_CAT_CD='M', ARREST_BORO='M', ARREST_PRECINCT=25, JURISDICTION_CODE=0, AGE_GROUP='25-44', PERP_SEX='M', PERP_RACE='BLACK', X_COORD_CD=1000856.0, Y_COORD_CD=229996.0, Latitude=40.797954533000045, Longitude=-73.94002456899995),\n",
              " Row(ARREST_KEY=208064829, ARREST_DATE='01/17/2020', PD_CD=782, PD_DESC='WEAPONS, POSSESSION, ETC', KY_CD=236, OFNS_DESC='DANGEROUS WEAPONS', LAW_CODE='PL 2650101', LAW_CAT_CD='M', ARREST_BORO='Q', ARREST_PRECINCT=110, JURISDICTION_CODE=0, AGE_GROUP='25-44', PERP_SEX='M', PERP_RACE='BLACK', X_COORD_CD=1017921.0, Y_COORD_CD=207821.0, Latitude=40.737041412000046, Longitude=-73.87850103299998),\n",
              " Row(ARREST_KEY=206905362, ARREST_DATE='01/02/2020', PD_CD=339, PD_DESC='LARCENY,PETIT FROM OPEN AREAS,', KY_CD=341, OFNS_DESC='PETIT LARCENY', LAW_CODE='PL 1552500', LAW_CAT_CD='M', ARREST_BORO='B', ARREST_PRECINCT=43, JURISDICTION_CODE=0, AGE_GROUP='25-44', PERP_SEX='M', PERP_RACE='BLACK', X_COORD_CD=1023876.0, Y_COORD_CD=240229.0, Latitude=40.825967994000045, Longitude=-73.85682155399996),\n",
              " Row(ARREST_KEY=206619198, ARREST_DATE='12/17/2019', PD_CD=779, PD_DESC='PUBLIC ADMINISTRATION,UNCLASSI', KY_CD=126, OFNS_DESC='MISCELLANEOUS PENAL LAW', LAW_CODE='PL 215510B', LAW_CAT_CD='F', ARREST_BORO='K', ARREST_PRECINCT=62, JURISDICTION_CODE=0, AGE_GROUP='25-44', PERP_SEX='F', PERP_RACE='WHITE', X_COORD_CD=988493.0, Y_COORD_CD=157594.0, Latitude=40.599242573000026, Longitude=-73.98472235199995),\n",
              " Row(ARREST_KEY=206487595, ARREST_DATE='12/14/2019', PD_CD=569, PD_DESC='MARIJUANA, SALE 4 & 5', KY_CD=235, OFNS_DESC='DANGEROUS DRUGS', LAW_CODE='PL 2214000', LAW_CAT_CD='M', ARREST_BORO='K', ARREST_PRECINCT=71, JURISDICTION_CODE=0, AGE_GROUP='25-44', PERP_SEX='M', PERP_RACE='WHITE', X_COORD_CD=995319.0, Y_COORD_CD=178505.0, Latitude=40.65663297400005, Longitude=-73.96010756699997),\n",
              " Row(ARREST_KEY=206457634, ARREST_DATE='12/13/2019', PD_CD=339, PD_DESC='LARCENY,PETIT FROM OPEN AREAS,', KY_CD=341, OFNS_DESC='PETIT LARCENY', LAW_CODE='PL 1552500', LAW_CAT_CD='M', ARREST_BORO='K', ARREST_PRECINCT=63, JURISDICTION_CODE=0, AGE_GROUP='18-24', PERP_SEX='M', PERP_RACE='BLACK', X_COORD_CD=1004560.0, Y_COORD_CD=162852.0, Latitude=40.61365245200005, Longitude=-73.92684912299995),\n",
              " Row(ARREST_KEY=206040771, ARREST_DATE='12/05/2019', PD_CD=662, PD_DESC='MATERIAL              OFFENSIV', KY_CD=361, OFNS_DESC='OFF. AGNST PUB ORD SENSBLTY &', LAW_CODE='PL 2451100', LAW_CAT_CD='M', ARREST_BORO='Q', ARREST_PRECINCT=103, JURISDICTION_CODE=0, AGE_GROUP='25-44', PERP_SEX='M', PERP_RACE='UNKNOWN', X_COORD_CD=1041879.0, Y_COORD_CD=197084.0, Latitude=40.707447364000075, Longitude=-73.79214176799996),\n",
              " Row(ARREST_KEY=205529500, ARREST_DATE='11/22/2019', PD_CD=268, PD_DESC='CRIMINAL MIS 2 & 3', KY_CD=121, OFNS_DESC='CRIMINAL MISCHIEF & RELATED OF', LAW_CODE='PL 1450502', LAW_CAT_CD='F', ARREST_BORO='K', ARREST_PRECINCT=61, JURISDICTION_CODE=0, AGE_GROUP='45-64', PERP_SEX='M', PERP_RACE='WHITE', X_COORD_CD=996967.0, Y_COORD_CD=158822.0, Latitude=40.60260507700008, Longitude=-73.95420508199999),\n",
              " Row(ARREST_KEY=205485382, ARREST_DATE='11/21/2019', PD_CD=922, PD_DESC='TRAFFIC,UNCLASSIFIED MISDEMEAN', KY_CD=348, OFNS_DESC='VEHICLE AND TRAFFIC LAWS', LAW_CODE='VTL1220B01', LAW_CAT_CD='M', ARREST_BORO='Q', ARREST_PRECINCT=113, JURISDICTION_CODE=3, AGE_GROUP='25-44', PERP_SEX='M', PERP_RACE='BLACK HISPANIC', X_COORD_CD=1046315.0, Y_COORD_CD=187088.0, Latitude=40.67998073800004, Longitude=-73.77623390699995),\n",
              " Row(ARREST_KEY=205225895, ARREST_DATE='11/16/2019', PD_CD=101, PD_DESC='ASSAULT 3', KY_CD=344, OFNS_DESC='ASSAULT 3 & RELATED OFFENSES', LAW_CODE='PL 1200001', LAW_CAT_CD='M', ARREST_BORO='K', ARREST_PRECINCT=72, JURISDICTION_CODE=0, AGE_GROUP='25-44', PERP_SEX='M', PERP_RACE='WHITE HISPANIC', X_COORD_CD=983246.0, Y_COORD_CD=176654.0, Latitude=40.651559242000076, Longitude=-74.00361969199997),\n",
              " Row(ARREST_KEY=204893056, ARREST_DATE='11/08/2019', PD_CD=729, PD_DESC='FORGERY,ETC.,UNCLASSIFIED-FELO', KY_CD=113, OFNS_DESC='FORGERY', LAW_CODE='PL 1702500', LAW_CAT_CD='F', ARREST_BORO='Q', ARREST_PRECINCT=104, JURISDICTION_CODE=1, AGE_GROUP='18-24', PERP_SEX='M', PERP_RACE='BLACK', X_COORD_CD=1008918.0, Y_COORD_CD=194147.0, Latitude=40.69953927100005, Longitude=-73.91103806999996),\n",
              " Row(ARREST_KEY=204458079, ARREST_DATE='11/03/2019', PD_CD=263, PD_DESC='ARSON 2,3,4', KY_CD=114, OFNS_DESC='ARSON', LAW_CODE='PL 1501500', LAW_CAT_CD='F', ARREST_BORO='K', ARREST_PRECINCT=78, JURISDICTION_CODE=0, AGE_GROUP='45-64', PERP_SEX='M', PERP_RACE='WHITE', X_COORD_CD=990105.0, Y_COORD_CD=182698.0, Latitude=40.668146816000046, Longitude=-73.97889574699997),\n",
              " Row(ARREST_KEY=204432874, ARREST_DATE='10/31/2019', PD_CD=259, PD_DESC='CRIMINAL MISCHIEF,UNCLASSIFIED 4', KY_CD=351, OFNS_DESC='CRIMINAL MISCHIEF & RELATED OF', LAW_CODE='PL 1450001', LAW_CAT_CD='M', ARREST_BORO='Q', ARREST_PRECINCT=113, JURISDICTION_CODE=0, AGE_GROUP='25-44', PERP_SEX='M', PERP_RACE='BLACK', X_COORD_CD=1046083.0, Y_COORD_CD=182916.0, Latitude=40.66853119600006, Longitude=-73.77710862299995),\n",
              " Row(ARREST_KEY=204297763, ARREST_DATE='10/28/2019', PD_CD=440, PD_DESC=None, KY_CD=None, OFNS_DESC=None, LAW_CODE='PL 1553502', LAW_CAT_CD='F', ARREST_BORO='M', ARREST_PRECINCT=14, JURISDICTION_CODE=0, AGE_GROUP='65+', PERP_SEX='M', PERP_RACE='WHITE', X_COORD_CD=985802.0, Y_COORD_CD=213781.0, Latitude=40.75346407600006, Longitude=-73.99439974299997),\n",
              " Row(ARREST_KEY=204231251, ARREST_DATE='10/26/2019', PD_CD=101, PD_DESC='ASSAULT 3', KY_CD=344, OFNS_DESC='ASSAULT 3 & RELATED OFFENSES', LAW_CODE='PL 1200001', LAW_CAT_CD='M', ARREST_BORO='M', ARREST_PRECINCT=13, JURISDICTION_CODE=0, AGE_GROUP='18-24', PERP_SEX='F', PERP_RACE='WHITE HISPANIC', X_COORD_CD=986432.0, Y_COORD_CD=209222.0, Latitude=40.74095063100003, Longitude=-73.99212733199994),\n",
              " Row(ARREST_KEY=204115617, ARREST_DATE='10/23/2019', PD_CD=106, PD_DESC='ASSAULT POLICE/PEACE OFFICER', KY_CD=106, OFNS_DESC='FELONY ASSAULT', LAW_CODE='PL 1200800', LAW_CAT_CD='F', ARREST_BORO='K', ARREST_PRECINCT=63, JURISDICTION_CODE=97, AGE_GROUP='45-64', PERP_SEX='M', PERP_RACE='UNKNOWN', X_COORD_CD=1000628.0, Y_COORD_CD=167549.0, Latitude=40.62655287800004, Longitude=-73.94099995499994),\n",
              " Row(ARREST_KEY=203913513, ARREST_DATE='10/18/2019', PD_CD=511, PD_DESC='CONTROLLED SUBSTANCE, POSSESSI', KY_CD=235, OFNS_DESC='DANGEROUS DRUGS', LAW_CODE='PL 2200300', LAW_CAT_CD='M', ARREST_BORO='K', ARREST_PRECINCT=73, JURISDICTION_CODE=0, AGE_GROUP='25-44', PERP_SEX='F', PERP_RACE='WHITE', X_COORD_CD=1009775.0, Y_COORD_CD=186072.0, Latitude=40.677372829000035, Longitude=-73.90797795399999),\n",
              " Row(ARREST_KEY=203883757, ARREST_DATE='10/18/2019', PD_CD=109, PD_DESC='ASSAULT 2,1,UNCLASSIFIED', KY_CD=106, OFNS_DESC='FELONY ASSAULT', LAW_CODE='PL 1200502', LAW_CAT_CD='F', ARREST_BORO='B', ARREST_PRECINCT=47, JURISDICTION_CODE=0, AGE_GROUP='45-64', PERP_SEX='M', PERP_RACE='BLACK', X_COORD_CD=1021332.0, Y_COORD_CD=259709.0, Latitude=40.87944579800006, Longitude=-73.86590598299995),\n",
              " Row(ARREST_KEY=203418861, ARREST_DATE='10/08/2019', PD_CD=729, PD_DESC='FORGERY,ETC.,UNCLASSIFIED-FELO', KY_CD=113, OFNS_DESC='FORGERY', LAW_CODE='PL 1702500', LAW_CAT_CD='F', ARREST_BORO='M', ARREST_PRECINCT=25, JURISDICTION_CODE=1, AGE_GROUP='18-24', PERP_SEX='M', PERP_RACE='BLACK', X_COORD_CD=1001575.0, Y_COORD_CD=232339.0, Latitude=40.80438404600005, Longitude=-73.93742166899995),\n",
              " Row(ARREST_KEY=203215700, ARREST_DATE='10/03/2019', PD_CD=109, PD_DESC='ASSAULT 2,1,UNCLASSIFIED', KY_CD=106, OFNS_DESC='FELONY ASSAULT', LAW_CODE='PL 1200501', LAW_CAT_CD='F', ARREST_BORO='B', ARREST_PRECINCT=44, JURISDICTION_CODE=0, AGE_GROUP='25-44', PERP_SEX='M', PERP_RACE='BLACK', X_COORD_CD=1006537.0, Y_COORD_CD=244511.0, Latitude=40.837781618000065, Longitude=-73.91945797099999),\n",
              " Row(ARREST_KEY=202689161, ARREST_DATE='09/20/2019', PD_CD=729, PD_DESC='FORGERY,ETC.,UNCLASSIFIED-FELO', KY_CD=113, OFNS_DESC='FORGERY', LAW_CODE='PL 1701501', LAW_CAT_CD='F', ARREST_BORO='Q', ARREST_PRECINCT=105, JURISDICTION_CODE=0, AGE_GROUP='25-44', PERP_SEX='M', PERP_RACE='BLACK', X_COORD_CD=1059559.0, Y_COORD_CD=180705.0, Latitude=40.66235814600003, Longitude=-73.72855592399998),\n",
              " Row(ARREST_KEY=202157999, ARREST_DATE='09/09/2019', PD_CD=101, PD_DESC='ASSAULT 3', KY_CD=344, OFNS_DESC='ASSAULT 3 & RELATED OFFENSES', LAW_CODE='PL 1200001', LAW_CAT_CD='M', ARREST_BORO='K', ARREST_PRECINCT=73, JURISDICTION_CODE=0, AGE_GROUP='<18', PERP_SEX='M', PERP_RACE='BLACK', X_COORD_CD=1008731.0, Y_COORD_CD=181974.0, Latitude=40.666127689000064, Longitude=-73.91175669499995),\n",
              " Row(ARREST_KEY=201940602, ARREST_DATE='09/04/2019', PD_CD=244, PD_DESC='BURGLARY,UNCLASSIFIED,UNKNOWN', KY_CD=107, OFNS_DESC='BURGLARY', LAW_CODE='PL 1402501', LAW_CAT_CD='F', ARREST_BORO='S', ARREST_PRECINCT=121, JURISDICTION_CODE=0, AGE_GROUP='25-44', PERP_SEX='M', PERP_RACE='WHITE', X_COORD_CD=942825.0, Y_COORD_CD=166367.0, Latitude=40.62322681900008, Longitude=-74.14922697299994),\n",
              " Row(ARREST_KEY=201844526, ARREST_DATE='09/01/2019', PD_CD=101, PD_DESC='ASSAULT 3', KY_CD=344, OFNS_DESC='ASSAULT 3 & RELATED OFFENSES', LAW_CODE='PL 1200001', LAW_CAT_CD='M', ARREST_BORO='B', ARREST_PRECINCT=43, JURISDICTION_CODE=0, AGE_GROUP='45-64', PERP_SEX='F', PERP_RACE='WHITE HISPANIC', X_COORD_CD=1023606.0, Y_COORD_CD=246041.0, Latitude=40.84192144800005, Longitude=-73.85776303999995),\n",
              " Row(ARREST_KEY=201525216, ARREST_DATE='08/24/2019', PD_CD=109, PD_DESC='ASSAULT 2,1,UNCLASSIFIED', KY_CD=106, OFNS_DESC='FELONY ASSAULT', LAW_CODE='PL 1200512', LAW_CAT_CD='F', ARREST_BORO='K', ARREST_PRECINCT=66, JURISDICTION_CODE=0, AGE_GROUP='25-44', PERP_SEX='F', PERP_RACE='WHITE HISPANIC', X_COORD_CD=989212.0, Y_COORD_CD=167107.0, Latitude=40.625353430000075, Longitude=-73.98212623799998),\n",
              " Row(ARREST_KEY=201513086, ARREST_DATE='08/23/2019', PD_CD=339, PD_DESC='LARCENY,PETIT FROM OPEN AREAS,', KY_CD=341, OFNS_DESC='PETIT LARCENY', LAW_CODE='PL 1552500', LAW_CAT_CD='M', ARREST_BORO='K', ARREST_PRECINCT=60, JURISDICTION_CODE=0, AGE_GROUP='45-64', PERP_SEX='F', PERP_RACE='WHITE', X_COORD_CD=993031.0, Y_COORD_CD=149239.0, Latitude=40.57630642700008, Longitude=-73.96839182299993),\n",
              " Row(ARREST_KEY=201424914, ARREST_DATE='08/21/2019', PD_CD=565, PD_DESC='PROSTITUTION, PATRONIZING 4, 3', KY_CD=356, OFNS_DESC='PROSTITUTION & RELATED OFFENSES', LAW_CODE='PL 2300400', LAW_CAT_CD='M', ARREST_BORO='K', ARREST_PRECINCT=84, JURISDICTION_CODE=0, AGE_GROUP='25-44', PERP_SEX='M', PERP_RACE='BLACK', X_COORD_CD=989350.0, Y_COORD_CD=189802.0, Latitude=40.68764616000004, Longitude=-73.98161194399995),\n",
              " Row(ARREST_KEY=201317525, ARREST_DATE='08/19/2019', PD_CD=109, PD_DESC='ASSAULT 2,1,UNCLASSIFIED', KY_CD=106, OFNS_DESC='FELONY ASSAULT', LAW_CODE='PL 1200501', LAW_CAT_CD='F', ARREST_BORO='Q', ARREST_PRECINCT=109, JURISDICTION_CODE=0, AGE_GROUP='18-24', PERP_SEX='F', PERP_RACE='WHITE', X_COORD_CD=1032084.0, Y_COORD_CD=216954.0, Latitude=40.762043893000055, Longitude=-73.82732958099996),\n",
              " Row(ARREST_KEY=201207036, ARREST_DATE='08/16/2019', PD_CD=113, PD_DESC='MENACING,UNCLASSIFIED', KY_CD=344, OFNS_DESC='ASSAULT 3 & RELATED OFFENSES', LAW_CODE='PL 1201401', LAW_CAT_CD='M', ARREST_BORO='K', ARREST_PRECINCT=69, JURISDICTION_CODE=0, AGE_GROUP='65+', PERP_SEX='M', PERP_RACE='BLACK', X_COORD_CD=1013829.0, Y_COORD_CD=173958.0, Latitude=40.644109971000034, Longitude=-73.89341550599994),\n",
              " Row(ARREST_KEY=201201418, ARREST_DATE='08/16/2019', PD_CD=922, PD_DESC='TRAFFIC,UNCLASSIFIED MISDEMEAN', KY_CD=348, OFNS_DESC='VEHICLE AND TRAFFIC LAWS', LAW_CODE='VTL05110MU', LAW_CAT_CD='M', ARREST_BORO='Q', ARREST_PRECINCT=100, JURISDICTION_CODE=0, AGE_GROUP='25-44', PERP_SEX='M', PERP_RACE='WHITE', X_COORD_CD=1040864.0, Y_COORD_CD=155333.0, Latitude=40.592856795000046, Longitude=-73.79615314799997),\n",
              " Row(ARREST_KEY=200871953, ARREST_DATE='08/08/2019', PD_CD=129, PD_DESC='MANSLAUGHTER,UNCLASSIFIED - NO', KY_CD=101, OFNS_DESC='MURDER & NON-NEGL. MANSLAUGHTE', LAW_CODE='PL 1252004', LAW_CAT_CD='F', ARREST_BORO='B', ARREST_PRECINCT=50, JURISDICTION_CODE=0, AGE_GROUP='25-44', PERP_SEX='F', PERP_RACE='BLACK', X_COORD_CD=1010984.0, Y_COORD_CD=261034.0, Latitude=40.88311992000007, Longitude=-73.90332096899994),\n",
              " Row(ARREST_KEY=200708373, ARREST_DATE='08/05/2019', PD_CD=439, PD_DESC='LARCENY,GRAND FROM OPEN AREAS, UNATTENDED', KY_CD=109, OFNS_DESC='GRAND LARCENY', LAW_CODE='PL 1553501', LAW_CAT_CD='F', ARREST_BORO='M', ARREST_PRECINCT=26, JURISDICTION_CODE=0, AGE_GROUP='25-44', PERP_SEX='M', PERP_RACE='BLACK', X_COORD_CD=996343.0, Y_COORD_CD=236150.0, Latitude=40.81485289400007, Longitude=-73.95631335299998),\n",
              " Row(ARREST_KEY=200395596, ARREST_DATE='07/29/2019', PD_CD=397, PD_DESC='ROBBERY,OPEN AREA UNCLASSIFIED', KY_CD=105, OFNS_DESC='ROBBERY', LAW_CODE='PL 1600500', LAW_CAT_CD='F', ARREST_BORO='M', ARREST_PRECINCT=7, JURISDICTION_CODE=0, AGE_GROUP='18-24', PERP_SEX='M', PERP_RACE='BLACK', X_COORD_CD=988702.0, Y_COORD_CD=200012.0, Latitude=40.71567057300007, Longitude=-73.98394174399994),\n",
              " Row(ARREST_KEY=200356462, ARREST_DATE='07/28/2019', PD_CD=339, PD_DESC='LARCENY,PETIT FROM OPEN AREAS,', KY_CD=341, OFNS_DESC='PETIT LARCENY', LAW_CODE='PL 1552500', LAW_CAT_CD='M', ARREST_BORO='K', ARREST_PRECINCT=75, JURISDICTION_CODE=0, AGE_GROUP='45-64', PERP_SEX='F', PERP_RACE='BLACK', X_COORD_CD=1012436.0, Y_COORD_CD=184893.0, Latitude=40.67412866900003, Longitude=-73.89838937699994),\n",
              " Row(ARREST_KEY=200308679, ARREST_DATE='07/27/2019', PD_CD=268, PD_DESC='CRIMINAL MIS 2 & 3', KY_CD=121, OFNS_DESC='CRIMINAL MISCHIEF & RELATED OF', LAW_CODE='PL 1450502', LAW_CAT_CD='F', ARREST_BORO='B', ARREST_PRECINCT=48, JURISDICTION_CODE=0, AGE_GROUP='18-24', PERP_SEX='F', PERP_RACE='WHITE HISPANIC', X_COORD_CD=1011811.0, Y_COORD_CD=246833.0, Latitude=40.84413994500005, Longitude=-73.90038861799997),\n",
              " Row(ARREST_KEY=200277132, ARREST_DATE='07/26/2019', PD_CD=105, PD_DESC='STRANGULATION 1ST', KY_CD=106, OFNS_DESC='FELONY ASSAULT', LAW_CODE='PL 1211200', LAW_CAT_CD='F', ARREST_BORO='M', ARREST_PRECINCT=33, JURISDICTION_CODE=0, AGE_GROUP='25-44', PERP_SEX='M', PERP_RACE='WHITE HISPANIC', X_COORD_CD=1001889.0, Y_COORD_CD=245601.0, Latitude=40.840783858000066, Longitude=-73.93625260699997),\n",
              " Row(ARREST_KEY=200213243, ARREST_DATE='07/25/2019', PD_CD=339, PD_DESC='LARCENY,PETIT FROM OPEN AREAS,', KY_CD=341, OFNS_DESC='PETIT LARCENY', LAW_CODE='PL 1552500', LAW_CAT_CD='M', ARREST_BORO='Q', ARREST_PRECINCT=112, JURISDICTION_CODE=0, AGE_GROUP='<18', PERP_SEX='M', PERP_RACE='WHITE HISPANIC', X_COORD_CD=1025078.0, Y_COORD_CD=202257.0, Latitude=40.721739469000056, Longitude=-73.85270909599996),\n",
              " Row(ARREST_KEY=200174179, ARREST_DATE='07/24/2019', PD_CD=339, PD_DESC='LARCENY,PETIT FROM OPEN AREAS,', KY_CD=341, OFNS_DESC='PETIT LARCENY', LAW_CODE='PL 1552500', LAW_CAT_CD='M', ARREST_BORO='K', ARREST_PRECINCT=70, JURISDICTION_CODE=0, AGE_GROUP='25-44', PERP_SEX='M', PERP_RACE='ASIAN / PACIFIC ISLANDER', X_COORD_CD=996678.0, Y_COORD_CD=174177.0, Latitude=40.64475175100006, Longitude=-73.95521755899995),\n",
              " Row(ARREST_KEY=200048982, ARREST_DATE='07/21/2019', PD_CD=792, PD_DESC='WEAPONS POSSESSION 1 & 2', KY_CD=118, OFNS_DESC='DANGEROUS WEAPONS', LAW_CODE='PL 265031B', LAW_CAT_CD='F', ARREST_BORO='K', ARREST_PRECINCT=60, JURISDICTION_CODE=2, AGE_GROUP='25-44', PERP_SEX='M', PERP_RACE='WHITE HISPANIC', X_COORD_CD=984688.0, Y_COORD_CD=150503.0, Latitude=40.57978019500007, Longitude=-73.99842465499995),\n",
              " Row(ARREST_KEY=199908384, ARREST_DATE='07/18/2019', PD_CD=439, PD_DESC='LARCENY,GRAND FROM OPEN AREAS, UNATTENDED', KY_CD=109, OFNS_DESC='GRAND LARCENY', LAW_CODE='PL 1553501', LAW_CAT_CD='F', ARREST_BORO='S', ARREST_PRECINCT=120, JURISDICTION_CODE=0, AGE_GROUP='25-44', PERP_SEX='M', PERP_RACE='BLACK', X_COORD_CD=962960.0, Y_COORD_CD=173438.0, Latitude=40.64270648100006, Longitude=-74.07671690299998),\n",
              " Row(ARREST_KEY=199874867, ARREST_DATE='07/17/2019', PD_CD=639, PD_DESC='AGGRAVATED HARASSMENT 2', KY_CD=361, OFNS_DESC='OFF. AGNST PUB ORD SENSBLTY &', LAW_CODE='PL 2403005', LAW_CAT_CD='M', ARREST_BORO='K', ARREST_PRECINCT=71, JURISDICTION_CODE=0, AGE_GROUP='25-44', PERP_SEX='M', PERP_RACE='BLACK', X_COORD_CD=999005.0, Y_COORD_CD=181250.0, Latitude=40.66416202000005, Longitude=-73.94681681999998),\n",
              " Row(ARREST_KEY=198794170, ARREST_DATE='06/21/2019', PD_CD=568, PD_DESC='MARIJUANA, POSSESSION 1, 2 & 3', KY_CD=117, OFNS_DESC='DANGEROUS DRUGS', LAW_CODE='PL 2212000', LAW_CAT_CD='F', ARREST_BORO='K', ARREST_PRECINCT=60, JURISDICTION_CODE=0, AGE_GROUP='25-44', PERP_SEX='M', PERP_RACE='BLACK', X_COORD_CD=989140.0, Y_COORD_CD=148952.0, Latitude=40.57552166800008, Longitude=-73.98239875099995),\n",
              " Row(ARREST_KEY=198236569, ARREST_DATE='06/09/2019', PD_CD=109, PD_DESC='ASSAULT 2,1,UNCLASSIFIED', KY_CD=106, OFNS_DESC='FELONY ASSAULT', LAW_CODE='PL 1200502', LAW_CAT_CD='F', ARREST_BORO='M', ARREST_PRECINCT=28, JURISDICTION_CODE=0, AGE_GROUP='45-64', PERP_SEX='F', PERP_RACE='BLACK', X_COORD_CD=996204.0, Y_COORD_CD=232575.0, Latitude=40.80504070000006, Longitude=-73.95682188099994),\n",
              " Row(ARREST_KEY=198097658, ARREST_DATE='06/05/2019', PD_CD=109, PD_DESC='ASSAULT 2,1,UNCLASSIFIED', KY_CD=106, OFNS_DESC='FELONY ASSAULT', LAW_CODE='PL 1200502', LAW_CAT_CD='F', ARREST_BORO='B', ARREST_PRECINCT=43, JURISDICTION_CODE=0, AGE_GROUP='25-44', PERP_SEX='F', PERP_RACE='BLACK', X_COORD_CD=1020183.0, Y_COORD_CD=239283.0, Latitude=40.823387291000074, Longitude=-73.87017044999999),\n",
              " Row(ARREST_KEY=198017723, ARREST_DATE='06/04/2019', PD_CD=113, PD_DESC='MENACING,UNCLASSIFIED', KY_CD=344, OFNS_DESC='ASSAULT 3 & RELATED OFFENSES', LAW_CODE='PL 1201401', LAW_CAT_CD='M', ARREST_BORO='M', ARREST_PRECINCT=28, JURISDICTION_CODE=0, AGE_GROUP='18-24', PERP_SEX='F', PERP_RACE='BLACK', X_COORD_CD=995888.0, Y_COORD_CD=231530.0, Latitude=40.802172883000026, Longitude=-73.95796512999993),\n",
              " Row(ARREST_KEY=197867538, ARREST_DATE='05/31/2019', PD_CD=922, PD_DESC='TRAFFIC,UNCLASSIFIED MISDEMEAN', KY_CD=348, OFNS_DESC='VEHICLE AND TRAFFIC LAWS', LAW_CODE='VTL05110E2', LAW_CAT_CD='F', ARREST_BORO='M', ARREST_PRECINCT=13, JURISDICTION_CODE=0, AGE_GROUP='25-44', PERP_SEX='M', PERP_RACE='WHITE', X_COORD_CD=990986.0, Y_COORD_CD=204681.0, Latitude=40.72848440800004, Longitude=-73.97569799799999),\n",
              " Row(ARREST_KEY=197751361, ARREST_DATE='05/29/2019', PD_CD=639, PD_DESC='AGGRAVATED HARASSMENT 2', KY_CD=361, OFNS_DESC='OFF. AGNST PUB ORD SENSBLTY &', LAW_CODE='PL 24030M1', LAW_CAT_CD='M', ARREST_BORO='S', ARREST_PRECINCT=122, JURISDICTION_CODE=0, AGE_GROUP='25-44', PERP_SEX='M', PERP_RACE='WHITE', X_COORD_CD=954801.0, Y_COORD_CD=148466.0, Latitude=40.57414012800007, Longitude=-74.10600776499996),\n",
              " Row(ARREST_KEY=197235255, ARREST_DATE='05/15/2019', PD_CD=339, PD_DESC='LARCENY,PETIT FROM OPEN AREAS,', KY_CD=341, OFNS_DESC='PETIT LARCENY', LAW_CODE='PL 1552500', LAW_CAT_CD='M', ARREST_BORO='M', ARREST_PRECINCT=28, JURISDICTION_CODE=0, AGE_GROUP='25-44', PERP_SEX='M', PERP_RACE='WHITE', X_COORD_CD=999214.0, Y_COORD_CD=234266.0, Latitude=40.809677443000055, Longitude=-73.94594556099997),\n",
              " Row(ARREST_KEY=197226371, ARREST_DATE='05/15/2019', PD_CD=101, PD_DESC='ASSAULT 3', KY_CD=344, OFNS_DESC='ASSAULT 3 & RELATED OFFENSES', LAW_CODE='PL 1200001', LAW_CAT_CD='M', ARREST_BORO='M', ARREST_PRECINCT=23, JURISDICTION_CODE=0, AGE_GROUP='45-64', PERP_SEX='F', PERP_RACE='BLACK HISPANIC', X_COORD_CD=1000834.0, Y_COORD_CD=228492.0, Latitude=40.79382650300005, Longitude=-73.94010774199995),\n",
              " Row(ARREST_KEY=197141945, ARREST_DATE='05/13/2019', PD_CD=198, PD_DESC='CRIMINAL CONTEMPT 1', KY_CD=126, OFNS_DESC='MISCELLANEOUS PENAL LAW', LAW_CODE='PL 21551B2', LAW_CAT_CD='F', ARREST_BORO='Q', ARREST_PRECINCT=113, JURISDICTION_CODE=0, AGE_GROUP='25-44', PERP_SEX='M', PERP_RACE='BLACK', X_COORD_CD=1048167.0, Y_COORD_CD=193245.0, Latitude=40.69686705600003, Longitude=-73.76949837299998),\n",
              " Row(ARREST_KEY=196841751, ARREST_DATE='05/06/2019', PD_CD=339, PD_DESC='LARCENY,PETIT FROM OPEN AREAS,', KY_CD=341, OFNS_DESC='PETIT LARCENY', LAW_CODE='PL 1552500', LAW_CAT_CD='M', ARREST_BORO='S', ARREST_PRECINCT=122, JURISDICTION_CODE=0, AGE_GROUP='18-24', PERP_SEX='F', PERP_RACE='BLACK', X_COORD_CD=952820.0, Y_COORD_CD=145880.0, Latitude=40.56703526500007, Longitude=-74.11312665899999),\n",
              " Row(ARREST_KEY=196812498, ARREST_DATE='05/05/2019', PD_CD=101, PD_DESC='ASSAULT 3', KY_CD=344, OFNS_DESC='ASSAULT 3 & RELATED OFFENSES', LAW_CODE='PL 1200000', LAW_CAT_CD='M', ARREST_BORO='M', ARREST_PRECINCT=28, JURISDICTION_CODE=0, AGE_GROUP='25-44', PERP_SEX='F', PERP_RACE='BLACK', X_COORD_CD=996726.0, Y_COORD_CD=231664.0, Latitude=40.80253953400006, Longitude=-73.95493803499994),\n",
              " Row(ARREST_KEY=196760698, ARREST_DATE='05/03/2019', PD_CD=511, PD_DESC='CONTROLLED SUBSTANCE, POSSESSI', KY_CD=235, OFNS_DESC='DANGEROUS DRUGS', LAW_CODE='PL 2200300', LAW_CAT_CD='M', ARREST_BORO='B', ARREST_PRECINCT=46, JURISDICTION_CODE=0, AGE_GROUP='25-44', PERP_SEX='M', PERP_RACE='BLACK', X_COORD_CD=1011499.0, Y_COORD_CD=249075.0, Latitude=40.85029453900006, Longitude=-73.90150715799996),\n",
              " Row(ARREST_KEY=196023461, ARREST_DATE='04/15/2019', PD_CD=113, PD_DESC='MENACING,UNCLASSIFIED', KY_CD=344, OFNS_DESC='ASSAULT 3 & RELATED OFFENSES', LAW_CODE='PL 1201401', LAW_CAT_CD='M', ARREST_BORO='M', ARREST_PRECINCT=25, JURISDICTION_CODE=0, AGE_GROUP='25-44', PERP_SEX='M', PERP_RACE='BLACK', X_COORD_CD=1000458.0, Y_COORD_CD=232958.0, Latitude=40.80608515100005, Longitude=-73.94145489899995),\n",
              " Row(ARREST_KEY=195984568, ARREST_DATE='04/14/2019', PD_CD=339, PD_DESC='LARCENY,PETIT FROM OPEN AREAS,', KY_CD=341, OFNS_DESC='PETIT LARCENY', LAW_CODE='PL 1552500', LAW_CAT_CD='M', ARREST_BORO='M', ARREST_PRECINCT=14, JURISDICTION_CODE=0, AGE_GROUP='25-44', PERP_SEX='M', PERP_RACE='BLACK', X_COORD_CD=987220.0, Y_COORD_CD=212676.0, Latitude=40.75043076800006, Longitude=-73.98928217599996),\n",
              " Row(ARREST_KEY=195694639, ARREST_DATE='04/07/2019', PD_CD=113, PD_DESC='MENACING,UNCLASSIFIED', KY_CD=344, OFNS_DESC='ASSAULT 3 & RELATED OFFENSES', LAW_CODE='PL 1201500', LAW_CAT_CD='M', ARREST_BORO='Q', ARREST_PRECINCT=102, JURISDICTION_CODE=0, AGE_GROUP='25-44', PERP_SEX='M', PERP_RACE='ASIAN / PACIFIC ISLANDER', X_COORD_CD=1031076.0, Y_COORD_CD=193779.0, Latitude=40.69843969400006, Longitude=-73.83112953899996),\n",
              " Row(ARREST_KEY=195365377, ARREST_DATE='03/30/2019', PD_CD=339, PD_DESC='LARCENY,PETIT FROM OPEN AREAS,', KY_CD=341, OFNS_DESC='PETIT LARCENY', LAW_CODE='PL 1552500', LAW_CAT_CD='M', ARREST_BORO='M', ARREST_PRECINCT=1, JURISDICTION_CODE=0, AGE_GROUP='45-64', PERP_SEX='M', PERP_RACE='BLACK HISPANIC', X_COORD_CD=982351.0, Y_COORD_CD=201758.0, Latitude=40.720463840000036, Longitude=-74.00685220399998),\n",
              " Row(ARREST_KEY=195156476, ARREST_DATE='03/26/2019', PD_CD=515, PD_DESC='CONTROLLED SUBSTANCE,SALE 3', KY_CD=117, OFNS_DESC='DANGEROUS DRUGS', LAW_CODE='PL 2203901', LAW_CAT_CD='F', ARREST_BORO='K', ARREST_PRECINCT=77, JURISDICTION_CODE=0, AGE_GROUP='25-44', PERP_SEX='M', PERP_RACE='BLACK', X_COORD_CD=1003508.0, Y_COORD_CD=185056.0, Latitude=40.67459999000005, Longitude=-73.93057482199998),\n",
              " Row(ARREST_KEY=195102335, ARREST_DATE='03/25/2019', PD_CD=750, PD_DESC='RESISTING ARREST', KY_CD=359, OFNS_DESC='OFFENSES AGAINST PUBLIC ADMINI', LAW_CODE='PL 2053000', LAW_CAT_CD='M', ARREST_BORO='B', ARREST_PRECINCT=41, JURISDICTION_CODE=0, AGE_GROUP='25-44', PERP_SEX='M', PERP_RACE='WHITE HISPANIC', X_COORD_CD=1014468.0, Y_COORD_CD=238156.0, Latitude=40.82031539600007, Longitude=-73.89082460299994),\n",
              " Row(ARREST_KEY=195059669, ARREST_DATE='03/23/2019', PD_CD=848, PD_DESC='NY STATE LAWS,UNCLASSIFIED MIS', KY_CD=364, OFNS_DESC='OTHER STATE LAWS (NON PENAL LA', LAW_CODE='CPL5700600', LAW_CAT_CD='M', ARREST_BORO='Q', ARREST_PRECINCT=102, JURISDICTION_CODE=0, AGE_GROUP='18-24', PERP_SEX='M', PERP_RACE='BLACK', X_COORD_CD=1032428.0, Y_COORD_CD=198872.0, Latitude=40.71241149700006, Longitude=-73.82621729999994),\n",
              " Row(ARREST_KEY=194720138, ARREST_DATE='03/14/2019', PD_CD=109, PD_DESC='ASSAULT 2,1,UNCLASSIFIED', KY_CD=106, OFNS_DESC='FELONY ASSAULT', LAW_CODE='PL 1200502', LAW_CAT_CD='F', ARREST_BORO='B', ARREST_PRECINCT=46, JURISDICTION_CODE=0, AGE_GROUP='25-44', PERP_SEX='M', PERP_RACE='BLACK', X_COORD_CD=1011751.0, Y_COORD_CD=250275.0, Latitude=40.85358740100003, Longitude=-73.90059135599995),\n",
              " Row(ARREST_KEY=194516514, ARREST_DATE='03/10/2019', PD_CD=101, PD_DESC='ASSAULT 3', KY_CD=344, OFNS_DESC='ASSAULT 3 & RELATED OFFENSES', LAW_CODE='PL 1200001', LAW_CAT_CD='M', ARREST_BORO='M', ARREST_PRECINCT=28, JURISDICTION_CODE=97, AGE_GROUP='45-64', PERP_SEX='F', PERP_RACE='BLACK', X_COORD_CD=997464.0, Y_COORD_CD=230236.0, Latitude=40.79861899100007, Longitude=-73.95227518299998),\n",
              " Row(ARREST_KEY=194400842, ARREST_DATE='03/07/2019', PD_CD=113, PD_DESC='MENACING,UNCLASSIFIED', KY_CD=344, OFNS_DESC='ASSAULT 3 & RELATED OFFENSES', LAW_CODE='PL 1201401', LAW_CAT_CD='M', ARREST_BORO='B', ARREST_PRECINCT=46, JURISDICTION_CODE=0, AGE_GROUP='25-44', PERP_SEX='M', PERP_RACE='BLACK', X_COORD_CD=1010196.0, Y_COORD_CD=249872.0, Latitude=40.85248599200003, Longitude=-73.90621389699999),\n",
              " Row(ARREST_KEY=194204624, ARREST_DATE='03/03/2019', PD_CD=109, PD_DESC='ASSAULT 2,1,UNCLASSIFIED', KY_CD=106, OFNS_DESC='FELONY ASSAULT', LAW_CODE='PL 1200502', LAW_CAT_CD='F', ARREST_BORO='K', ARREST_PRECINCT=71, JURISDICTION_CODE=0, AGE_GROUP='25-44', PERP_SEX='F', PERP_RACE='BLACK', X_COORD_CD=1001369.0, Y_COORD_CD=182107.0, Latitude=40.66651003900006, Longitude=-73.93829357299995),\n",
              " Row(ARREST_KEY=194044771, ARREST_DATE='02/27/2019', PD_CD=244, PD_DESC='BURGLARY,UNCLASSIFIED,UNKNOWN', KY_CD=107, OFNS_DESC='BURGLARY', LAW_CODE='PL 1402000', LAW_CAT_CD='F', ARREST_BORO='M', ARREST_PRECINCT=1, JURISDICTION_CODE=0, AGE_GROUP='25-44', PERP_SEX='M', PERP_RACE='BLACK', X_COORD_CD=982351.0, Y_COORD_CD=201758.0, Latitude=40.720463840000036, Longitude=-74.00685220399998)]"
            ]
          },
          "metadata": {},
          "execution_count": 94
        }
      ]
    },
    {
      "cell_type": "markdown",
      "source": [
        "Earlier, precision and recall were both zero. Because borough names were abbreviated\n",
        "True Positive = 0\n",
        "selected elements = 1553\n",
        "Relevant elements = 1534\n",
        "\n",
        "Later, when the technique was modified to handle abbreviated borough names\n",
        "True Positive = 1534\n",
        "selected elements = 1553\n",
        "Relevant elements = 1534\n",
        "\n",
        "precision= 1534/1553\n",
        "recall = 1534/1534"
      ],
      "metadata": {
        "id": "z11XfiL2jdFs"
      }
    }
  ],
  "metadata": {
    "colab": {
      "provenance": []
    },
    "kernelspec": {
      "display_name": "Python 3",
      "name": "python3"
    },
    "language_info": {
      "name": "python"
    }
  },
  "nbformat": 4,
  "nbformat_minor": 0
}
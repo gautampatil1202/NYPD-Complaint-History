{
  "nbformat": 4,
  "nbformat_minor": 0,
  "metadata": {
    "colab": {
      "provenance": []
    },
    "kernelspec": {
      "name": "python3",
      "display_name": "Python 3"
    },
    "language_info": {
      "name": "python"
    }
  },
  "cells": [
    {
      "cell_type": "markdown",
      "source": [
        "# NYPD Motor Vehicle Collisions:\n",
        "\n",
        "a. To get the required columns, use this module:\n",
        "\n",
        "\n",
        "1.   get_area_of_interest(df_spark, interested_columns)\n",
        "\n",
        "\n",
        "b. Preprocessing pipeline: Pass your data through these functions. (if your columns fall in those categories)\n",
        "\n",
        "1.   valid_date_check(date)\n",
        "2.   valid_time_check(time)\n",
        "3.   reverse_geo_code_boros(df_spark, Latitude, Longitude, Boro, lat_index, long_index)\n",
        "4.   refine_age_group_race(df_spark, victim_age_group=None, suspect_age_group=None, suspect_race=None, victim_race=None)\n",
        "5.   refine_sex_gender_impute(df_spark, suspect_age=None, suspect_gender=None, victim_age=None, victim_gender=None)\n",
        "6.   refine_precinct_jur(df_spark, precinct=None, Jur_code=None)\n",
        "\n"
      ],
      "metadata": {
        "id": "EtwLWOuvVE1R"
      }
    },
    {
      "cell_type": "code",
      "execution_count": 1,
      "metadata": {
        "colab": {
          "base_uri": "https://localhost:8080/"
        },
        "id": "z8dUqIINUs-T",
        "outputId": "1f7bfe38-307a-4248-f3df-56fe629e49b8"
      },
      "outputs": [
        {
          "output_type": "stream",
          "name": "stdout",
          "text": [
            "Requirement already satisfied: pyspark in /usr/local/lib/python3.11/dist-packages (3.5.1)\n",
            "Requirement already satisfied: py4j==0.10.9.7 in /usr/local/lib/python3.11/dist-packages (from pyspark) (0.10.9.7)\n",
            "Collecting openclean\n",
            "  Downloading openclean-0.2.1-py3-none-any.whl.metadata (9.3 kB)\n",
            "Collecting openclean-core==0.4.1 (from openclean)\n",
            "  Downloading openclean_core-0.4.1-py3-none-any.whl.metadata (7.6 kB)\n",
            "Requirement already satisfied: future in /usr/local/lib/python3.11/dist-packages (from openclean-core==0.4.1->openclean) (1.0.0)\n",
            "Collecting appdirs>=1.4.4 (from openclean-core==0.4.1->openclean)\n",
            "  Downloading appdirs-1.4.4-py2.py3-none-any.whl.metadata (9.0 kB)\n",
            "Requirement already satisfied: python-dateutil in /usr/local/lib/python3.11/dist-packages (from openclean-core==0.4.1->openclean) (2.9.0.post0)\n",
            "Collecting dill (from openclean-core==0.4.1->openclean)\n",
            "  Downloading dill-0.4.0-py3-none-any.whl.metadata (10 kB)\n",
            "Requirement already satisfied: requests in /usr/local/lib/python3.11/dist-packages (from openclean-core==0.4.1->openclean) (2.32.3)\n",
            "Requirement already satisfied: pandas>=1.0.0 in /usr/local/lib/python3.11/dist-packages (from openclean-core==0.4.1->openclean) (2.2.2)\n",
            "Requirement already satisfied: scikit-learn in /usr/local/lib/python3.11/dist-packages (from openclean-core==0.4.1->openclean) (1.6.1)\n",
            "Requirement already satisfied: jsonschema>=3.2.0 in /usr/local/lib/python3.11/dist-packages (from openclean-core==0.4.1->openclean) (4.23.0)\n",
            "Collecting histore>=0.4.0 (from openclean-core==0.4.1->openclean)\n",
            "  Downloading histore-0.4.1-py3-none-any.whl.metadata (6.1 kB)\n",
            "Collecting flowserv-core>=0.8.0 (from openclean-core==0.4.1->openclean)\n",
            "  Downloading flowserv_core-0.9.4-py3-none-any.whl.metadata (8.3 kB)\n",
            "Collecting jellyfish (from openclean-core==0.4.1->openclean)\n",
            "  Downloading jellyfish-1.2.0-cp311-cp311-manylinux_2_17_x86_64.manylinux2014_x86_64.whl.metadata (2.6 kB)\n",
            "Collecting refdata>=0.2.0 (from openclean-core==0.4.1->openclean)\n",
            "  Downloading refdata-0.2.0-py3-none-any.whl.metadata (6.3 kB)\n",
            "Requirement already satisfied: scipy in /usr/local/lib/python3.11/dist-packages (from openclean-core==0.4.1->openclean) (1.15.2)\n",
            "Requirement already satisfied: gitpython in /usr/local/lib/python3.11/dist-packages (from flowserv-core>=0.8.0->openclean-core==0.4.1->openclean) (3.1.44)\n",
            "Collecting paramiko (from flowserv-core>=0.8.0->openclean-core==0.4.1->openclean)\n",
            "  Downloading paramiko-3.5.1-py3-none-any.whl.metadata (4.6 kB)\n",
            "Collecting passlib (from flowserv-core>=0.8.0->openclean-core==0.4.1->openclean)\n",
            "  Downloading passlib-1.7.4-py2.py3-none-any.whl.metadata (1.7 kB)\n",
            "Requirement already satisfied: pyyaml>=5.1 in /usr/local/lib/python3.11/dist-packages (from flowserv-core>=0.8.0->openclean-core==0.4.1->openclean) (6.0.2)\n",
            "Requirement already satisfied: SQLAlchemy>=1.3.18 in /usr/local/lib/python3.11/dist-packages (from flowserv-core>=0.8.0->openclean-core==0.4.1->openclean) (2.0.40)\n",
            "Requirement already satisfied: Click in /usr/local/lib/python3.11/dist-packages (from flowserv-core>=0.8.0->openclean-core==0.4.1->openclean) (8.1.8)\n",
            "Collecting pyyaml-include (from flowserv-core>=0.8.0->openclean-core==0.4.1->openclean)\n",
            "  Downloading pyyaml_include-2.2-py3-none-any.whl.metadata (19 kB)\n",
            "Requirement already satisfied: psutil in /usr/local/lib/python3.11/dist-packages (from histore>=0.4.0->openclean-core==0.4.1->openclean) (5.9.5)\n",
            "Requirement already satisfied: attrs>=22.2.0 in /usr/local/lib/python3.11/dist-packages (from jsonschema>=3.2.0->openclean-core==0.4.1->openclean) (25.3.0)\n",
            "Requirement already satisfied: jsonschema-specifications>=2023.03.6 in /usr/local/lib/python3.11/dist-packages (from jsonschema>=3.2.0->openclean-core==0.4.1->openclean) (2025.4.1)\n",
            "Requirement already satisfied: referencing>=0.28.4 in /usr/local/lib/python3.11/dist-packages (from jsonschema>=3.2.0->openclean-core==0.4.1->openclean) (0.36.2)\n",
            "Requirement already satisfied: rpds-py>=0.7.1 in /usr/local/lib/python3.11/dist-packages (from jsonschema>=3.2.0->openclean-core==0.4.1->openclean) (0.24.0)\n",
            "Requirement already satisfied: numpy>=1.23.2 in /usr/local/lib/python3.11/dist-packages (from pandas>=1.0.0->openclean-core==0.4.1->openclean) (2.0.2)\n",
            "Requirement already satisfied: pytz>=2020.1 in /usr/local/lib/python3.11/dist-packages (from pandas>=1.0.0->openclean-core==0.4.1->openclean) (2025.2)\n",
            "Requirement already satisfied: tzdata>=2022.7 in /usr/local/lib/python3.11/dist-packages (from pandas>=1.0.0->openclean-core==0.4.1->openclean) (2025.2)\n",
            "Requirement already satisfied: six>=1.5 in /usr/local/lib/python3.11/dist-packages (from python-dateutil->openclean-core==0.4.1->openclean) (1.17.0)\n",
            "Collecting datasize>=1.0.0 (from refdata>=0.2.0->openclean-core==0.4.1->openclean)\n",
            "  Downloading datasize-1.0.0.tar.gz (149 kB)\n",
            "\u001b[2K     \u001b[90m━━━━━━━━━━━━━━━━━━━━━━━━━━━━━━━━━━━━━━━\u001b[0m \u001b[32m149.4/149.4 kB\u001b[0m \u001b[31m4.3 MB/s\u001b[0m eta \u001b[36m0:00:00\u001b[0m\n",
            "\u001b[?25h  Preparing metadata (setup.py) ... \u001b[?25l\u001b[?25hdone\n",
            "Requirement already satisfied: pooch>=1.3.0 in /usr/local/lib/python3.11/dist-packages (from refdata>=0.2.0->openclean-core==0.4.1->openclean) (1.8.2)\n",
            "Collecting tableprint (from refdata>=0.2.0->openclean-core==0.4.1->openclean)\n",
            "  Downloading tableprint-0.9.1-py3-none-any.whl.metadata (1.0 kB)\n",
            "Requirement already satisfied: charset-normalizer<4,>=2 in /usr/local/lib/python3.11/dist-packages (from requests->openclean-core==0.4.1->openclean) (3.4.1)\n",
            "Requirement already satisfied: idna<4,>=2.5 in /usr/local/lib/python3.11/dist-packages (from requests->openclean-core==0.4.1->openclean) (3.10)\n",
            "Requirement already satisfied: urllib3<3,>=1.21.1 in /usr/local/lib/python3.11/dist-packages (from requests->openclean-core==0.4.1->openclean) (2.4.0)\n",
            "Requirement already satisfied: certifi>=2017.4.17 in /usr/local/lib/python3.11/dist-packages (from requests->openclean-core==0.4.1->openclean) (2025.4.26)\n",
            "Requirement already satisfied: joblib>=1.2.0 in /usr/local/lib/python3.11/dist-packages (from scikit-learn->openclean-core==0.4.1->openclean) (1.4.2)\n",
            "Requirement already satisfied: threadpoolctl>=3.1.0 in /usr/local/lib/python3.11/dist-packages (from scikit-learn->openclean-core==0.4.1->openclean) (3.6.0)\n",
            "Requirement already satisfied: platformdirs>=2.5.0 in /usr/local/lib/python3.11/dist-packages (from pooch>=1.3.0->refdata>=0.2.0->openclean-core==0.4.1->openclean) (4.3.7)\n",
            "Requirement already satisfied: packaging>=20.0 in /usr/local/lib/python3.11/dist-packages (from pooch>=1.3.0->refdata>=0.2.0->openclean-core==0.4.1->openclean) (24.2)\n",
            "Requirement already satisfied: typing-extensions>=4.4.0 in /usr/local/lib/python3.11/dist-packages (from referencing>=0.28.4->jsonschema>=3.2.0->openclean-core==0.4.1->openclean) (4.13.2)\n",
            "Requirement already satisfied: greenlet>=1 in /usr/local/lib/python3.11/dist-packages (from SQLAlchemy>=1.3.18->flowserv-core>=0.8.0->openclean-core==0.4.1->openclean) (3.2.1)\n",
            "Requirement already satisfied: gitdb<5,>=4.0.1 in /usr/local/lib/python3.11/dist-packages (from gitpython->flowserv-core>=0.8.0->openclean-core==0.4.1->openclean) (4.0.12)\n",
            "Collecting bcrypt>=3.2 (from paramiko->flowserv-core>=0.8.0->openclean-core==0.4.1->openclean)\n",
            "  Downloading bcrypt-4.3.0-cp39-abi3-manylinux_2_34_x86_64.whl.metadata (10 kB)\n",
            "Requirement already satisfied: cryptography>=3.3 in /usr/local/lib/python3.11/dist-packages (from paramiko->flowserv-core>=0.8.0->openclean-core==0.4.1->openclean) (43.0.3)\n",
            "Collecting pynacl>=1.5 (from paramiko->flowserv-core>=0.8.0->openclean-core==0.4.1->openclean)\n",
            "  Downloading PyNaCl-1.5.0-cp36-abi3-manylinux_2_17_x86_64.manylinux2014_x86_64.manylinux_2_24_x86_64.whl.metadata (8.6 kB)\n",
            "Requirement already satisfied: fsspec>=2021.04.0 in /usr/local/lib/python3.11/dist-packages (from pyyaml-include->flowserv-core>=0.8.0->openclean-core==0.4.1->openclean) (2025.3.2)\n",
            "Requirement already satisfied: wcwidth in /usr/local/lib/python3.11/dist-packages (from tableprint->refdata>=0.2.0->openclean-core==0.4.1->openclean) (0.2.13)\n",
            "Requirement already satisfied: cffi>=1.12 in /usr/local/lib/python3.11/dist-packages (from cryptography>=3.3->paramiko->flowserv-core>=0.8.0->openclean-core==0.4.1->openclean) (1.17.1)\n",
            "Requirement already satisfied: smmap<6,>=3.0.1 in /usr/local/lib/python3.11/dist-packages (from gitdb<5,>=4.0.1->gitpython->flowserv-core>=0.8.0->openclean-core==0.4.1->openclean) (5.0.2)\n",
            "Requirement already satisfied: pycparser in /usr/local/lib/python3.11/dist-packages (from cffi>=1.12->cryptography>=3.3->paramiko->flowserv-core>=0.8.0->openclean-core==0.4.1->openclean) (2.22)\n",
            "Downloading openclean-0.2.1-py3-none-any.whl (5.2 kB)\n",
            "Downloading openclean_core-0.4.1-py3-none-any.whl (267 kB)\n",
            "\u001b[2K   \u001b[90m━━━━━━━━━━━━━━━━━━━━━━━━━━━━━━━━━━━━━━━━\u001b[0m \u001b[32m267.1/267.1 kB\u001b[0m \u001b[31m10.2 MB/s\u001b[0m eta \u001b[36m0:00:00\u001b[0m\n",
            "\u001b[?25hDownloading appdirs-1.4.4-py2.py3-none-any.whl (9.6 kB)\n",
            "Downloading flowserv_core-0.9.4-py3-none-any.whl (260 kB)\n",
            "\u001b[2K   \u001b[90m━━━━━━━━━━━━━━━━━━━━━━━━━━━━━━━━━━━━━━━━\u001b[0m \u001b[32m260.8/260.8 kB\u001b[0m \u001b[31m11.5 MB/s\u001b[0m eta \u001b[36m0:00:00\u001b[0m\n",
            "\u001b[?25hDownloading histore-0.4.1-py3-none-any.whl (109 kB)\n",
            "\u001b[2K   \u001b[90m━━━━━━━━━━━━━━━━━━━━━━━━━━━━━━━━━━━━━━━━\u001b[0m \u001b[32m109.8/109.8 kB\u001b[0m \u001b[31m5.8 MB/s\u001b[0m eta \u001b[36m0:00:00\u001b[0m\n",
            "\u001b[?25hDownloading refdata-0.2.0-py3-none-any.whl (37 kB)\n",
            "Downloading dill-0.4.0-py3-none-any.whl (119 kB)\n",
            "\u001b[2K   \u001b[90m━━━━━━━━━━━━━━━━━━━━━━━━━━━━━━━━━━━━━━━━\u001b[0m \u001b[32m119.7/119.7 kB\u001b[0m \u001b[31m8.0 MB/s\u001b[0m eta \u001b[36m0:00:00\u001b[0m\n",
            "\u001b[?25hDownloading jellyfish-1.2.0-cp311-cp311-manylinux_2_17_x86_64.manylinux2014_x86_64.whl (356 kB)\n",
            "\u001b[2K   \u001b[90m━━━━━━━━━━━━━━━━━━━━━━━━━━━━━━━━━━━━━━━━\u001b[0m \u001b[32m356.9/356.9 kB\u001b[0m \u001b[31m21.3 MB/s\u001b[0m eta \u001b[36m0:00:00\u001b[0m\n",
            "\u001b[?25hDownloading paramiko-3.5.1-py3-none-any.whl (227 kB)\n",
            "\u001b[2K   \u001b[90m━━━━━━━━━━━━━━━━━━━━━━━━━━━━━━━━━━━━━━━━\u001b[0m \u001b[32m227.3/227.3 kB\u001b[0m \u001b[31m13.5 MB/s\u001b[0m eta \u001b[36m0:00:00\u001b[0m\n",
            "\u001b[?25hDownloading passlib-1.7.4-py2.py3-none-any.whl (525 kB)\n",
            "\u001b[2K   \u001b[90m━━━━━━━━━━━━━━━━━━━━━━━━━━━━━━━━━━━━━━━━\u001b[0m \u001b[32m525.6/525.6 kB\u001b[0m \u001b[31m28.7 MB/s\u001b[0m eta \u001b[36m0:00:00\u001b[0m\n",
            "\u001b[?25hDownloading pyyaml_include-2.2-py3-none-any.whl (29 kB)\n",
            "Downloading tableprint-0.9.1-py3-none-any.whl (6.8 kB)\n",
            "Downloading bcrypt-4.3.0-cp39-abi3-manylinux_2_34_x86_64.whl (284 kB)\n",
            "\u001b[2K   \u001b[90m━━━━━━━━━━━━━━━━━━━━━━━━━━━━━━━━━━━━━━━━\u001b[0m \u001b[32m284.2/284.2 kB\u001b[0m \u001b[31m17.2 MB/s\u001b[0m eta \u001b[36m0:00:00\u001b[0m\n",
            "\u001b[?25hDownloading PyNaCl-1.5.0-cp36-abi3-manylinux_2_17_x86_64.manylinux2014_x86_64.manylinux_2_24_x86_64.whl (856 kB)\n",
            "\u001b[2K   \u001b[90m━━━━━━━━━━━━━━━━━━━━━━━━━━━━━━━━━━━━━━━━\u001b[0m \u001b[32m856.7/856.7 kB\u001b[0m \u001b[31m43.8 MB/s\u001b[0m eta \u001b[36m0:00:00\u001b[0m\n",
            "\u001b[?25hBuilding wheels for collected packages: datasize\n",
            "  Building wheel for datasize (setup.py) ... \u001b[?25l\u001b[?25hdone\n",
            "  Created wheel for datasize: filename=datasize-1.0.0-py2.py3-none-any.whl size=155030 sha256=b2a1a3dc45298dc5615e182db254ae939b45249b396edff7060f3d06237f8688\n",
            "  Stored in directory: /root/.cache/pip/wheels/1b/a0/e5/4073bad08f2e5258fc86a7caf2df7d3e6ef0118b94f0ad2f1c\n",
            "Successfully built datasize\n",
            "Installing collected packages: passlib, datasize, appdirs, tableprint, pyyaml-include, jellyfish, dill, bcrypt, pynacl, paramiko, refdata, histore, flowserv-core, openclean-core, openclean\n",
            "Successfully installed appdirs-1.4.4 bcrypt-4.3.0 datasize-1.0.0 dill-0.4.0 flowserv-core-0.9.4 histore-0.4.1 jellyfish-1.2.0 openclean-0.2.1 openclean-core-0.4.1 paramiko-3.5.1 passlib-1.7.4 pynacl-1.5.0 pyyaml-include-2.2 refdata-0.2.0 tableprint-0.9.1\n"
          ]
        }
      ],
      "source": [
        "!pip install pyspark\n",
        "!pip install openclean"
      ]
    },
    {
      "cell_type": "code",
      "source": [
        "#importing packages required\n",
        "from pyspark import SparkContext, SparkConf\n",
        "import os\n",
        "import requests\n",
        "from six.moves import urllib\n",
        "import sys\n",
        "import pandas as pd\n",
        "import matplotlib\n",
        "import matplotlib as plt\n",
        "import numpy as np\n",
        "import scipy as sp\n",
        "import IPython\n",
        "from IPython import display\n",
        "import sklearn\n",
        "import random\n",
        "import time\n",
        "import warnings\n",
        "import re\n",
        "import matplotlib.pyplot as plt\n",
        "%matplotlib inline\n",
        "from openclean.pipeline import stream\n",
        "from openclean.profiling.column import DefaultColumnProfiler\n",
        "from openclean.data.source.socrata import Socrata\n",
        "from openclean.pipeline import stream\n",
        "from openclean.function.eval.datatype import IsDatetime\n",
        "import datetime\n",
        "import pandas as pd\n",
        "from pyspark.sql import SparkSession, Row\n",
        "from pyspark.sql.functions import udf, struct\n",
        "from pyspark.sql.types import StringType"
      ],
      "metadata": {
        "id": "fOq89ZjQU0yv"
      },
      "execution_count": null,
      "outputs": []
    },
    {
      "cell_type": "code",
      "source": [
        "from geopy.geocoders import ArcGIS\n",
        "geocoder=ArcGIS()\n",
        "#example:\n",
        "geocoder.reverse('40.61157006600007, -73.74736517199995')"
      ],
      "metadata": {
        "colab": {
          "base_uri": "https://localhost:8080/"
        },
        "id": "vjam1thSU34J",
        "outputId": "8d96fae8-9c85-46c9-c23d-11a936be9e72"
      },
      "execution_count": null,
      "outputs": [
        {
          "output_type": "execute_result",
          "data": {
            "text/plain": [
              "Location(11-64 Redfern Ave, Far Rockaway, New York 11691, USA, (40.61161616586613, -73.74738361194636, 0.0))"
            ]
          },
          "metadata": {},
          "execution_count": 8
        }
      ]
    },
    {
      "cell_type": "code",
      "source": [
        "#Creating Spark Session\n",
        "sc = SparkContext.getOrCreate();\n",
        "spark = SparkSession(sc)"
      ],
      "metadata": {
        "id": "Jye4yIQdU7WB"
      },
      "execution_count": null,
      "outputs": []
    },
    {
      "cell_type": "code",
      "source": [
        "#Downloading file from NYC Open Data\n",
        "fn_src = 'https://data.cityofnewyork.us/api/views/h9gi-nx95/rows.csv?accessType=DOWNLOAD'\n",
        "fn_dst = '/content/Motor_Vehicle_Collission.csv'\n",
        "\n",
        "if os.path.isfile(fn_dst):\n",
        "    print('File %s has already been downloaded' % fn_dst)\n",
        "else:\n",
        "    print('Fetching file %s. This may take a while...' % fn_dst)\n",
        "    urllib.request.urlretrieve(fn_src, fn_dst)\n",
        "    print('File %s has been downloaded' % fn_dst)"
      ],
      "metadata": {
        "colab": {
          "base_uri": "https://localhost:8080/"
        },
        "id": "MkeHipz9U-Rj",
        "outputId": "ce096410-3089-4ccb-bfae-7f4607151a96"
      },
      "execution_count": null,
      "outputs": [
        {
          "output_type": "stream",
          "name": "stdout",
          "text": [
            "Fetching file /content/Motor_Vehicle_Collission.csv. This may take a while...\n",
            "File /content/Motor_Vehicle_Collission.csv has been downloaded\n"
          ]
        }
      ]
    },
    {
      "cell_type": "code",
      "source": [
        "#similarly, lets get them into pyspark rdd\n",
        "def get_area_of_interest(df_spark, interested_columns):\n",
        "  df_spark=df_spark.select(interested_columns)\n",
        "  return df_spark"
      ],
      "metadata": {
        "id": "QSORcsBrVfcD"
      },
      "execution_count": null,
      "outputs": []
    },
    {
      "cell_type": "markdown",
      "metadata": {
        "id": "E5V7wUimEBaO"
      },
      "source": [
        "## Data Profiling"
      ]
    },
    {
      "cell_type": "code",
      "metadata": {
        "id": "-fcEmWMnDysg"
      },
      "source": [
        "#Using openclean for finding anomalies\n",
        "from openclean.pipeline import stream\n",
        "ds = stream(fn_dst)"
      ],
      "execution_count": null,
      "outputs": []
    },
    {
      "cell_type": "code",
      "metadata": {
        "id": "iy2jahcGhYNl"
      },
      "source": [
        "#Creating profile of our dataset\n",
        "from openclean.profiling.column import DefaultColumnProfiler\n",
        "profiles = ds.profile(default_profiler=DefaultColumnProfiler)"
      ],
      "execution_count": null,
      "outputs": []
    },
    {
      "cell_type": "code",
      "metadata": {
        "colab": {
          "base_uri": "https://localhost:8080/",
          "height": 948
        },
        "id": "QM8dq12mhxIh",
        "outputId": "33ed4e84-049b-4071-add6-fe2df14bc94d"
      },
      "source": [
        "#CMPLNT_NUM, RPT_DT, KY_CD, LAW_CAT_CD have no null values\n",
        "profiles.stats()"
      ],
      "execution_count": null,
      "outputs": [
        {
          "output_type": "execute_result",
          "data": {
            "text/html": [
              "<div>\n",
              "<style scoped>\n",
              "    .dataframe tbody tr th:only-of-type {\n",
              "        vertical-align: middle;\n",
              "    }\n",
              "\n",
              "    .dataframe tbody tr th {\n",
              "        vertical-align: top;\n",
              "    }\n",
              "\n",
              "    .dataframe thead th {\n",
              "        text-align: right;\n",
              "    }\n",
              "</style>\n",
              "<table border=\"1\" class=\"dataframe\">\n",
              "  <thead>\n",
              "    <tr style=\"text-align: right;\">\n",
              "      <th></th>\n",
              "      <th>total</th>\n",
              "      <th>empty</th>\n",
              "      <th>distinct</th>\n",
              "      <th>uniqueness</th>\n",
              "      <th>entropy</th>\n",
              "    </tr>\n",
              "  </thead>\n",
              "  <tbody>\n",
              "    <tr>\n",
              "      <th>CRASH DATE</th>\n",
              "      <td>1847668</td>\n",
              "      <td>0</td>\n",
              "      <td>3445</td>\n",
              "      <td>0.001865</td>\n",
              "      <td>11.686566</td>\n",
              "    </tr>\n",
              "    <tr>\n",
              "      <th>CRASH TIME</th>\n",
              "      <td>1847668</td>\n",
              "      <td>0</td>\n",
              "      <td>1440</td>\n",
              "      <td>0.000779</td>\n",
              "      <td>8.930995</td>\n",
              "    </tr>\n",
              "    <tr>\n",
              "      <th>BOROUGH</th>\n",
              "      <td>1847668</td>\n",
              "      <td>570984</td>\n",
              "      <td>5</td>\n",
              "      <td>0.000004</td>\n",
              "      <td>2.118367</td>\n",
              "    </tr>\n",
              "    <tr>\n",
              "      <th>ZIP CODE</th>\n",
              "      <td>1847668</td>\n",
              "      <td>571206</td>\n",
              "      <td>232</td>\n",
              "      <td>0.000182</td>\n",
              "      <td>7.221091</td>\n",
              "    </tr>\n",
              "    <tr>\n",
              "      <th>LATITUDE</th>\n",
              "      <td>1847668</td>\n",
              "      <td>215664</td>\n",
              "      <td>122513</td>\n",
              "      <td>0.075069</td>\n",
              "      <td>15.633984</td>\n",
              "    </tr>\n",
              "    <tr>\n",
              "      <th>LONGITUDE</th>\n",
              "      <td>1847668</td>\n",
              "      <td>215664</td>\n",
              "      <td>96061</td>\n",
              "      <td>0.058861</td>\n",
              "      <td>15.342880</td>\n",
              "    </tr>\n",
              "    <tr>\n",
              "      <th>LOCATION</th>\n",
              "      <td>1847668</td>\n",
              "      <td>215664</td>\n",
              "      <td>244712</td>\n",
              "      <td>0.149946</td>\n",
              "      <td>16.186128</td>\n",
              "    </tr>\n",
              "    <tr>\n",
              "      <th>ON STREET NAME</th>\n",
              "      <td>1847668</td>\n",
              "      <td>378084</td>\n",
              "      <td>16135</td>\n",
              "      <td>0.010979</td>\n",
              "      <td>10.599730</td>\n",
              "    </tr>\n",
              "    <tr>\n",
              "      <th>CROSS STREET NAME</th>\n",
              "      <td>1847668</td>\n",
              "      <td>665517</td>\n",
              "      <td>19279</td>\n",
              "      <td>0.016308</td>\n",
              "      <td>11.809301</td>\n",
              "    </tr>\n",
              "    <tr>\n",
              "      <th>OFF STREET NAME</th>\n",
              "      <td>1847668</td>\n",
              "      <td>1561953</td>\n",
              "      <td>180506</td>\n",
              "      <td>0.631769</td>\n",
              "      <td>16.921074</td>\n",
              "    </tr>\n",
              "    <tr>\n",
              "      <th>NUMBER OF PERSONS INJURED</th>\n",
              "      <td>1847668</td>\n",
              "      <td>18</td>\n",
              "      <td>27</td>\n",
              "      <td>0.000015</td>\n",
              "      <td>0.968078</td>\n",
              "    </tr>\n",
              "    <tr>\n",
              "      <th>NUMBER OF PERSONS KILLED</th>\n",
              "      <td>1847668</td>\n",
              "      <td>31</td>\n",
              "      <td>7</td>\n",
              "      <td>0.000004</td>\n",
              "      <td>0.014365</td>\n",
              "    </tr>\n",
              "    <tr>\n",
              "      <th>NUMBER OF PEDESTRIANS INJURED</th>\n",
              "      <td>1847668</td>\n",
              "      <td>0</td>\n",
              "      <td>13</td>\n",
              "      <td>0.000007</td>\n",
              "      <td>0.299085</td>\n",
              "    </tr>\n",
              "    <tr>\n",
              "      <th>NUMBER OF PEDESTRIANS KILLED</th>\n",
              "      <td>1847668</td>\n",
              "      <td>0</td>\n",
              "      <td>4</td>\n",
              "      <td>0.000002</td>\n",
              "      <td>0.008132</td>\n",
              "    </tr>\n",
              "    <tr>\n",
              "      <th>NUMBER OF CYCLIST INJURED</th>\n",
              "      <td>1847668</td>\n",
              "      <td>0</td>\n",
              "      <td>5</td>\n",
              "      <td>0.000003</td>\n",
              "      <td>0.164141</td>\n",
              "    </tr>\n",
              "    <tr>\n",
              "      <th>NUMBER OF CYCLIST KILLED</th>\n",
              "      <td>1847668</td>\n",
              "      <td>0</td>\n",
              "      <td>3</td>\n",
              "      <td>0.000002</td>\n",
              "      <td>0.001458</td>\n",
              "    </tr>\n",
              "    <tr>\n",
              "      <th>NUMBER OF MOTORIST INJURED</th>\n",
              "      <td>1847668</td>\n",
              "      <td>0</td>\n",
              "      <td>27</td>\n",
              "      <td>0.000015</td>\n",
              "      <td>0.758524</td>\n",
              "    </tr>\n",
              "    <tr>\n",
              "      <th>NUMBER OF MOTORIST KILLED</th>\n",
              "      <td>1847668</td>\n",
              "      <td>0</td>\n",
              "      <td>6</td>\n",
              "      <td>0.000003</td>\n",
              "      <td>0.006352</td>\n",
              "    </tr>\n",
              "    <tr>\n",
              "      <th>CONTRIBUTING FACTOR VEHICLE 1</th>\n",
              "      <td>1847668</td>\n",
              "      <td>5351</td>\n",
              "      <td>61</td>\n",
              "      <td>0.000033</td>\n",
              "      <td>3.520410</td>\n",
              "    </tr>\n",
              "    <tr>\n",
              "      <th>CONTRIBUTING FACTOR VEHICLE 2</th>\n",
              "      <td>1847668</td>\n",
              "      <td>268247</td>\n",
              "      <td>61</td>\n",
              "      <td>0.000039</td>\n",
              "      <td>1.229455</td>\n",
              "    </tr>\n",
              "    <tr>\n",
              "      <th>CONTRIBUTING FACTOR VEHICLE 3</th>\n",
              "      <td>1847668</td>\n",
              "      <td>1720872</td>\n",
              "      <td>50</td>\n",
              "      <td>0.000394</td>\n",
              "      <td>0.591806</td>\n",
              "    </tr>\n",
              "    <tr>\n",
              "      <th>CONTRIBUTING FACTOR VEHICLE 4</th>\n",
              "      <td>1847668</td>\n",
              "      <td>1819900</td>\n",
              "      <td>39</td>\n",
              "      <td>0.001404</td>\n",
              "      <td>0.495431</td>\n",
              "    </tr>\n",
              "    <tr>\n",
              "      <th>CONTRIBUTING FACTOR VEHICLE 5</th>\n",
              "      <td>1847668</td>\n",
              "      <td>1840291</td>\n",
              "      <td>29</td>\n",
              "      <td>0.003931</td>\n",
              "      <td>0.496478</td>\n",
              "    </tr>\n",
              "    <tr>\n",
              "      <th>COLLISION_ID</th>\n",
              "      <td>1847668</td>\n",
              "      <td>0</td>\n",
              "      <td>1847668</td>\n",
              "      <td>1.000000</td>\n",
              "      <td>20.817274</td>\n",
              "    </tr>\n",
              "    <tr>\n",
              "      <th>VEHICLE TYPE CODE 1</th>\n",
              "      <td>1847668</td>\n",
              "      <td>10209</td>\n",
              "      <td>1315</td>\n",
              "      <td>0.000716</td>\n",
              "      <td>3.264196</td>\n",
              "    </tr>\n",
              "    <tr>\n",
              "      <th>VEHICLE TYPE CODE 2</th>\n",
              "      <td>1847668</td>\n",
              "      <td>319318</td>\n",
              "      <td>1455</td>\n",
              "      <td>0.000952</td>\n",
              "      <td>3.571472</td>\n",
              "    </tr>\n",
              "    <tr>\n",
              "      <th>VEHICLE TYPE CODE 3</th>\n",
              "      <td>1847668</td>\n",
              "      <td>1724688</td>\n",
              "      <td>202</td>\n",
              "      <td>0.001643</td>\n",
              "      <td>2.912821</td>\n",
              "    </tr>\n",
              "    <tr>\n",
              "      <th>VEHICLE TYPE CODE 4</th>\n",
              "      <td>1847668</td>\n",
              "      <td>1820737</td>\n",
              "      <td>84</td>\n",
              "      <td>0.003119</td>\n",
              "      <td>2.728868</td>\n",
              "    </tr>\n",
              "    <tr>\n",
              "      <th>VEHICLE TYPE CODE 5</th>\n",
              "      <td>1847668</td>\n",
              "      <td>1840493</td>\n",
              "      <td>55</td>\n",
              "      <td>0.007666</td>\n",
              "      <td>2.680079</td>\n",
              "    </tr>\n",
              "  </tbody>\n",
              "</table>\n",
              "</div>"
            ],
            "text/plain": [
              "                                 total    empty  ...  uniqueness    entropy\n",
              "CRASH DATE                     1847668        0  ...    0.001865  11.686566\n",
              "CRASH TIME                     1847668        0  ...    0.000779   8.930995\n",
              "BOROUGH                        1847668   570984  ...    0.000004   2.118367\n",
              "ZIP CODE                       1847668   571206  ...    0.000182   7.221091\n",
              "LATITUDE                       1847668   215664  ...    0.075069  15.633984\n",
              "LONGITUDE                      1847668   215664  ...    0.058861  15.342880\n",
              "LOCATION                       1847668   215664  ...    0.149946  16.186128\n",
              "ON STREET NAME                 1847668   378084  ...    0.010979  10.599730\n",
              "CROSS STREET NAME              1847668   665517  ...    0.016308  11.809301\n",
              "OFF STREET NAME                1847668  1561953  ...    0.631769  16.921074\n",
              "NUMBER OF PERSONS INJURED      1847668       18  ...    0.000015   0.968078\n",
              "NUMBER OF PERSONS KILLED       1847668       31  ...    0.000004   0.014365\n",
              "NUMBER OF PEDESTRIANS INJURED  1847668        0  ...    0.000007   0.299085\n",
              "NUMBER OF PEDESTRIANS KILLED   1847668        0  ...    0.000002   0.008132\n",
              "NUMBER OF CYCLIST INJURED      1847668        0  ...    0.000003   0.164141\n",
              "NUMBER OF CYCLIST KILLED       1847668        0  ...    0.000002   0.001458\n",
              "NUMBER OF MOTORIST INJURED     1847668        0  ...    0.000015   0.758524\n",
              "NUMBER OF MOTORIST KILLED      1847668        0  ...    0.000003   0.006352\n",
              "CONTRIBUTING FACTOR VEHICLE 1  1847668     5351  ...    0.000033   3.520410\n",
              "CONTRIBUTING FACTOR VEHICLE 2  1847668   268247  ...    0.000039   1.229455\n",
              "CONTRIBUTING FACTOR VEHICLE 3  1847668  1720872  ...    0.000394   0.591806\n",
              "CONTRIBUTING FACTOR VEHICLE 4  1847668  1819900  ...    0.001404   0.495431\n",
              "CONTRIBUTING FACTOR VEHICLE 5  1847668  1840291  ...    0.003931   0.496478\n",
              "COLLISION_ID                   1847668        0  ...    1.000000  20.817274\n",
              "VEHICLE TYPE CODE 1            1847668    10209  ...    0.000716   3.264196\n",
              "VEHICLE TYPE CODE 2            1847668   319318  ...    0.000952   3.571472\n",
              "VEHICLE TYPE CODE 3            1847668  1724688  ...    0.001643   2.912821\n",
              "VEHICLE TYPE CODE 4            1847668  1820737  ...    0.003119   2.728868\n",
              "VEHICLE TYPE CODE 5            1847668  1840493  ...    0.007666   2.680079\n",
              "\n",
              "[29 rows x 5 columns]"
            ]
          },
          "metadata": {},
          "execution_count": 8
        }
      ]
    },
    {
      "cell_type": "code",
      "metadata": {
        "colab": {
          "base_uri": "https://localhost:8080/"
        },
        "id": "pDjHy_5IfG5-",
        "outputId": "f491d283-0d27-45ce-d592-4c1117314459"
      },
      "source": [
        "#Finding outliers i complaint dates\n",
        "from openclean.profiling.anomalies.sklearn import DBSCANOutliers\n",
        "\n",
        "incident_dates = ds.distinct('CRASH DATE')\n",
        "DBSCANOutliers().find(incident_dates)"
      ],
      "execution_count": null,
      "outputs": [
        {
          "output_type": "execute_result",
          "data": {
            "text/plain": [
              "[]"
            ]
          },
          "metadata": {},
          "execution_count": 10
        }
      ]
    },
    {
      "cell_type": "code",
      "metadata": {
        "colab": {
          "base_uri": "https://localhost:8080/"
        },
        "id": "ERJiaeiLDysi",
        "outputId": "a7cc70fa-3d78-4eb9-956e-5d2f7c7aa74a"
      },
      "source": [
        "#Finding outliers\n",
        "DBSCANOutliers(eps=0.05).find(incident_dates)"
      ],
      "execution_count": null,
      "outputs": [
        {
          "output_type": "execute_result",
          "data": {
            "text/plain": [
              "['02/03/2014',\n",
              " '03/06/2015',\n",
              " '02/22/2020',\n",
              " '02/20/2020',\n",
              " '12/15/2017',\n",
              " '11/15/2018',\n",
              " '01/21/2014',\n",
              " '02/02/2020',\n",
              " '05/19/2017',\n",
              " '01/18/2015',\n",
              " '12/21/2012']"
            ]
          },
          "metadata": {},
          "execution_count": 11
        }
      ]
    },
    {
      "cell_type": "markdown",
      "source": [
        "# 2. Module for date related columns\n",
        "\n",
        "As the dataset is for the data from 2012 to 2021, we can see that there is data from unknown format of \"1010-05-14\" to the year 2020. We need to clean this."
      ],
      "metadata": {
        "id": "5ZR2B1JeK3N0"
      }
    },
    {
      "cell_type": "code",
      "source": [
        "# fileName='1010-05-14 00:00:00'\n",
        "# # matches=re.search(\"([0-9]{4}\\-[0-9]{2}\\-[0-9]{2})\", fileName)\n",
        "# re.search(r'([0-9]{4}\\-[0-9]{2}\\-[0-9]{2})', fileName).group(0)\n",
        "\n",
        "def valid_date_check(date):\n",
        "  if date==None or date==\" \" or date==\"\":\n",
        "      return False\n",
        "  else:\n",
        "    date_cpy=date\n",
        "    date=date.split(\"/\")\n",
        "    try:\n",
        "      month=int(date[0])\n",
        "      day= int(date[1])\n",
        "      year=int(date[2])\n",
        "      if year>=2012 and year<=2021:\n",
        "        try:\n",
        "          refined_date=datetime.datetime(year, month, day)\n",
        "          return True\n",
        "        except:\n",
        "          return False\n",
        "      else:\n",
        "        return False\n",
        "    except:\n",
        "      return False"
      ],
      "metadata": {
        "id": "kml5KmPEeAK4"
      },
      "execution_count": null,
      "outputs": []
    },
    {
      "cell_type": "markdown",
      "source": [
        "# 3. Module for time related columns\n",
        "\n",
        "Similarly, lets check for the time as well. Here we must have time between\n",
        "the standard 24 hours."
      ],
      "metadata": {
        "id": "3OU8ZkkIhSf5"
      }
    },
    {
      "cell_type": "code",
      "source": [
        "#Deleting invalid time\n",
        "def valid_time_check(time):\n",
        "  if time==None or time==\" \" or time==\"\":\n",
        "    return False\n",
        "  else :\n",
        "    cpy_time=time\n",
        "    time=time.split(\":\")\n",
        "    try:\n",
        "      hour=int(time[0])\n",
        "      mins=int(time[1])\n",
        "      # if hours is 24 then change it to 0 hours\n",
        "      if hour == 24 and mins== 0:\n",
        "        hour=0\n",
        "      try:\n",
        "        newTime= datetime.time(hour,mins)\n",
        "        return True\n",
        "      except :\n",
        "        return False\n",
        "    except:\n",
        "      return False"
      ],
      "metadata": {
        "id": "6LroG_OQeCe9"
      },
      "execution_count": null,
      "outputs": []
    },
    {
      "cell_type": "markdown",
      "source": [
        "# 6.b Module for Reverse Geocoding the boroughs using latitudes and longitudes.\n",
        "\n",
        "1. First we will remove the rows where latitude, longitude and boroughs are null. (around 450 tuples removed)\n",
        "2. Then, where the boroughs are empty, take the latitude and longitude value and reverse geocode it using the module \"reverseGeocoder\".\n",
        "3. Impute the borough name retrived in the empty space.\n",
        "\n",
        "\n",
        "### USING MASTER DATASET\n",
        "In the case of geocoding, geocoder gives us the zipcodes based on the latitude and longitude values. Inturn, we can use the master dataset of zipcodes inorder to retrive the borough names\n",
        "\n",
        "\n",
        "\n",
        "NOTE: The dataset can be downloaded from : https://data.beta.nyc/en/dataset/pediacities-nyc-neighborhoods/resource/7caac650-d082-4aea-9f9b-3681d568e8a5"
      ],
      "metadata": {
        "id": "YtxVasX_g8OJ"
      }
    },
    {
      "cell_type": "code",
      "source": [
        "def reverse_geo_code_boros(df_spark, Latitude, Longitude, Boro, lat_index, long_index):\n",
        "  #select data where we have to impute\n",
        "  df_temp_boro_clean=df_spark.filter((df_spark[Latitude].isNotNull()) & (df_spark[Longitude].isNotNull()))\n",
        "  boro_cleaner=df_temp_boro_clean.filter((df_temp_boro_clean[Boro].isNull())|(df_temp_boro_clean[Boro]=='NEW YORK'))\n",
        "\n",
        "  # print(\"We have \"+ str(boro_cleaner.count())+ \" points to impute\")\n",
        "  print(\"___intializing Zip Code Look up ____\")\n",
        "  print(\"____ imputing the points ____\")\n",
        "\n",
        "\n",
        "  #use your path for master dataset here.\n",
        "  df_zips=pd.read_csv(dst)\n",
        "  zip_master={}\n",
        "  zips=df_zips['zip']\n",
        "  boro=df_zips['borough']\n",
        "  for i, j in zip(zips, boro):\n",
        "    zip_master[i]=j\n",
        "  zip_master[10020]='Manhattan'\n",
        "  zip_master[11249]='Brooklyn'\n",
        "\n",
        "  def reverseGeoCoder(latitude, longitude):\n",
        "    loc=geocoder.reverse(str(latitude)+', '+str(longitude), timeout=1000)\n",
        "    zipCode=str(loc).split(\",\")[2][-5:]\n",
        "    if not int(zipCode) in zip_master:\n",
        "      boro=\"UNKNOWN\"\n",
        "    else:\n",
        "      boro=zip_master[int(zipCode)]\n",
        "    boro=boro.upper()\n",
        "    return boro\n",
        "\n",
        "  #creating UD function\n",
        "  ud_func= udf(reverseGeoCoder, StringType())\n",
        "  boro_cleaned_dataframe = boro_cleaner.withColumn(Boro, ud_func(boro_cleaner[lat_index], boro_cleaner[long_index]))\n",
        "\n",
        "  #joining the imputed dataset to the maindataset and returning\n",
        "\n",
        "  joiner_dataset=df_spark.filter((df_spark[Latitude].isNotNull()) & (df_spark[Boro]!='NEW YORK') & (df_spark[Longitude].isNotNull()) & (df_spark[Boro].isNotNull()))\n",
        "  fin_df=joiner_dataset.union(boro_cleaned_dataframe)\n",
        "  return fin_df"
      ],
      "metadata": {
        "id": "tGGvupG0eQsb"
      },
      "execution_count": null,
      "outputs": []
    },
    {
      "cell_type": "markdown",
      "source": [
        "The size of dataset ~ 5M tuples. So, we need around 5000 data points for 95% confidence level with 1% interval. The size of data is almost 0.1% of the data. So we can get it into our df now"
      ],
      "metadata": {
        "id": "aWqXQ6Xmgz70"
      }
    },
    {
      "cell_type": "code",
      "source": [
        "df_spark=spark.read.option(\"header\",True).csv(fn_dst,inferSchema=True)\n",
        "df_spark=df_spark.sample(0.001)\n",
        "df_spark.count()"
      ],
      "metadata": {
        "colab": {
          "base_uri": "https://localhost:8080/"
        },
        "id": "nq0_3ZPweYnA",
        "outputId": "edfec021-38bf-476e-b90b-8d9df6de7a35"
      },
      "execution_count": null,
      "outputs": [
        {
          "output_type": "execute_result",
          "data": {
            "text/plain": [
              "1891"
            ]
          },
          "metadata": {},
          "execution_count": 16
        }
      ]
    },
    {
      "cell_type": "markdown",
      "source": [
        "# PROFILING TO CHECK FOR NULL VALUES IN ALL THE COLUMNS"
      ],
      "metadata": {
        "id": "vQkebErhmlXx"
      }
    },
    {
      "cell_type": "code",
      "source": [
        "pandasDF = df_spark.toPandas()\n",
        "ds=stream(pandasDF)\n",
        "#Creating profile of our dataset\n",
        "profiles = ds.profile(default_profiler=DefaultColumnProfiler)\n",
        "profiles.stats()"
      ],
      "metadata": {
        "colab": {
          "base_uri": "https://localhost:8080/",
          "height": 948
        },
        "id": "Y0ftSoh7mU0y",
        "outputId": "b5983ff4-c39f-4826-e557-3598ea5d6c21"
      },
      "execution_count": null,
      "outputs": [
        {
          "output_type": "execute_result",
          "data": {
            "text/html": [
              "<div>\n",
              "<style scoped>\n",
              "    .dataframe tbody tr th:only-of-type {\n",
              "        vertical-align: middle;\n",
              "    }\n",
              "\n",
              "    .dataframe tbody tr th {\n",
              "        vertical-align: top;\n",
              "    }\n",
              "\n",
              "    .dataframe thead th {\n",
              "        text-align: right;\n",
              "    }\n",
              "</style>\n",
              "<table border=\"1\" class=\"dataframe\">\n",
              "  <thead>\n",
              "    <tr style=\"text-align: right;\">\n",
              "      <th></th>\n",
              "      <th>total</th>\n",
              "      <th>empty</th>\n",
              "      <th>distinct</th>\n",
              "      <th>uniqueness</th>\n",
              "      <th>entropy</th>\n",
              "    </tr>\n",
              "  </thead>\n",
              "  <tbody>\n",
              "    <tr>\n",
              "      <th>CRASH DATE</th>\n",
              "      <td>1891</td>\n",
              "      <td>0</td>\n",
              "      <td>1440</td>\n",
              "      <td>0.761502</td>\n",
              "      <td>10.374932</td>\n",
              "    </tr>\n",
              "    <tr>\n",
              "      <th>CRASH TIME</th>\n",
              "      <td>1891</td>\n",
              "      <td>0</td>\n",
              "      <td>601</td>\n",
              "      <td>0.317821</td>\n",
              "      <td>8.449732</td>\n",
              "    </tr>\n",
              "    <tr>\n",
              "      <th>BOROUGH</th>\n",
              "      <td>1891</td>\n",
              "      <td>600</td>\n",
              "      <td>5</td>\n",
              "      <td>0.003873</td>\n",
              "      <td>2.105473</td>\n",
              "    </tr>\n",
              "    <tr>\n",
              "      <th>ZIP CODE</th>\n",
              "      <td>1891</td>\n",
              "      <td>601</td>\n",
              "      <td>171</td>\n",
              "      <td>0.132558</td>\n",
              "      <td>7.114951</td>\n",
              "    </tr>\n",
              "    <tr>\n",
              "      <th>LATITUDE</th>\n",
              "      <td>1891</td>\n",
              "      <td>221</td>\n",
              "      <td>1608</td>\n",
              "      <td>0.962874</td>\n",
              "      <td>10.630929</td>\n",
              "    </tr>\n",
              "    <tr>\n",
              "      <th>LONGITUDE</th>\n",
              "      <td>1891</td>\n",
              "      <td>221</td>\n",
              "      <td>1602</td>\n",
              "      <td>0.959281</td>\n",
              "      <td>10.622839</td>\n",
              "    </tr>\n",
              "    <tr>\n",
              "      <th>LOCATION</th>\n",
              "      <td>1891</td>\n",
              "      <td>221</td>\n",
              "      <td>1617</td>\n",
              "      <td>0.968263</td>\n",
              "      <td>10.642159</td>\n",
              "    </tr>\n",
              "    <tr>\n",
              "      <th>ON STREET NAME</th>\n",
              "      <td>1891</td>\n",
              "      <td>382</td>\n",
              "      <td>857</td>\n",
              "      <td>0.567926</td>\n",
              "      <td>9.307246</td>\n",
              "    </tr>\n",
              "    <tr>\n",
              "      <th>CROSS STREET NAME</th>\n",
              "      <td>1891</td>\n",
              "      <td>673</td>\n",
              "      <td>903</td>\n",
              "      <td>0.741379</td>\n",
              "      <td>9.573535</td>\n",
              "    </tr>\n",
              "    <tr>\n",
              "      <th>OFF STREET NAME</th>\n",
              "      <td>1891</td>\n",
              "      <td>1601</td>\n",
              "      <td>290</td>\n",
              "      <td>1.000000</td>\n",
              "      <td>8.179909</td>\n",
              "    </tr>\n",
              "    <tr>\n",
              "      <th>NUMBER OF PERSONS INJURED</th>\n",
              "      <td>1891</td>\n",
              "      <td>0</td>\n",
              "      <td>8</td>\n",
              "      <td>0.004231</td>\n",
              "      <td>0.997646</td>\n",
              "    </tr>\n",
              "    <tr>\n",
              "      <th>NUMBER OF PERSONS KILLED</th>\n",
              "      <td>1891</td>\n",
              "      <td>0</td>\n",
              "      <td>2</td>\n",
              "      <td>0.001058</td>\n",
              "      <td>0.017041</td>\n",
              "    </tr>\n",
              "    <tr>\n",
              "      <th>NUMBER OF PEDESTRIANS INJURED</th>\n",
              "      <td>1891</td>\n",
              "      <td>0</td>\n",
              "      <td>3</td>\n",
              "      <td>0.001586</td>\n",
              "      <td>0.313557</td>\n",
              "    </tr>\n",
              "    <tr>\n",
              "      <th>NUMBER OF PEDESTRIANS KILLED</th>\n",
              "      <td>1891</td>\n",
              "      <td>0</td>\n",
              "      <td>2</td>\n",
              "      <td>0.001058</td>\n",
              "      <td>0.017041</td>\n",
              "    </tr>\n",
              "    <tr>\n",
              "      <th>NUMBER OF CYCLIST INJURED</th>\n",
              "      <td>1891</td>\n",
              "      <td>0</td>\n",
              "      <td>3</td>\n",
              "      <td>0.001586</td>\n",
              "      <td>0.188186</td>\n",
              "    </tr>\n",
              "    <tr>\n",
              "      <th>NUMBER OF CYCLIST KILLED</th>\n",
              "      <td>1891</td>\n",
              "      <td>0</td>\n",
              "      <td>1</td>\n",
              "      <td>0.000529</td>\n",
              "      <td>0.000000</td>\n",
              "    </tr>\n",
              "    <tr>\n",
              "      <th>NUMBER OF MOTORIST INJURED</th>\n",
              "      <td>1891</td>\n",
              "      <td>0</td>\n",
              "      <td>8</td>\n",
              "      <td>0.004231</td>\n",
              "      <td>0.765108</td>\n",
              "    </tr>\n",
              "    <tr>\n",
              "      <th>NUMBER OF MOTORIST KILLED</th>\n",
              "      <td>1891</td>\n",
              "      <td>0</td>\n",
              "      <td>1</td>\n",
              "      <td>0.000529</td>\n",
              "      <td>0.000000</td>\n",
              "    </tr>\n",
              "    <tr>\n",
              "      <th>CONTRIBUTING FACTOR VEHICLE 1</th>\n",
              "      <td>1891</td>\n",
              "      <td>8</td>\n",
              "      <td>46</td>\n",
              "      <td>0.024429</td>\n",
              "      <td>3.522045</td>\n",
              "    </tr>\n",
              "    <tr>\n",
              "      <th>CONTRIBUTING FACTOR VEHICLE 2</th>\n",
              "      <td>1891</td>\n",
              "      <td>281</td>\n",
              "      <td>29</td>\n",
              "      <td>0.018012</td>\n",
              "      <td>1.179003</td>\n",
              "    </tr>\n",
              "    <tr>\n",
              "      <th>CONTRIBUTING FACTOR VEHICLE 3</th>\n",
              "      <td>1891</td>\n",
              "      <td>1751</td>\n",
              "      <td>8</td>\n",
              "      <td>0.057143</td>\n",
              "      <td>0.560264</td>\n",
              "    </tr>\n",
              "    <tr>\n",
              "      <th>CONTRIBUTING FACTOR VEHICLE 4</th>\n",
              "      <td>1891</td>\n",
              "      <td>1853</td>\n",
              "      <td>3</td>\n",
              "      <td>0.078947</td>\n",
              "      <td>0.350104</td>\n",
              "    </tr>\n",
              "    <tr>\n",
              "      <th>CONTRIBUTING FACTOR VEHICLE 5</th>\n",
              "      <td>1891</td>\n",
              "      <td>1878</td>\n",
              "      <td>2</td>\n",
              "      <td>0.153846</td>\n",
              "      <td>0.391244</td>\n",
              "    </tr>\n",
              "    <tr>\n",
              "      <th>COLLISION_ID</th>\n",
              "      <td>1891</td>\n",
              "      <td>0</td>\n",
              "      <td>1891</td>\n",
              "      <td>1.000000</td>\n",
              "      <td>10.884934</td>\n",
              "    </tr>\n",
              "    <tr>\n",
              "      <th>VEHICLE TYPE CODE 1</th>\n",
              "      <td>1891</td>\n",
              "      <td>17</td>\n",
              "      <td>43</td>\n",
              "      <td>0.022946</td>\n",
              "      <td>3.215155</td>\n",
              "    </tr>\n",
              "    <tr>\n",
              "      <th>VEHICLE TYPE CODE 2</th>\n",
              "      <td>1891</td>\n",
              "      <td>324</td>\n",
              "      <td>42</td>\n",
              "      <td>0.026803</td>\n",
              "      <td>3.465559</td>\n",
              "    </tr>\n",
              "    <tr>\n",
              "      <th>VEHICLE TYPE CODE 3</th>\n",
              "      <td>1891</td>\n",
              "      <td>1757</td>\n",
              "      <td>19</td>\n",
              "      <td>0.141791</td>\n",
              "      <td>2.821481</td>\n",
              "    </tr>\n",
              "    <tr>\n",
              "      <th>VEHICLE TYPE CODE 4</th>\n",
              "      <td>1891</td>\n",
              "      <td>1854</td>\n",
              "      <td>8</td>\n",
              "      <td>0.216216</td>\n",
              "      <td>2.358540</td>\n",
              "    </tr>\n",
              "    <tr>\n",
              "      <th>VEHICLE TYPE CODE 5</th>\n",
              "      <td>1891</td>\n",
              "      <td>1878</td>\n",
              "      <td>5</td>\n",
              "      <td>0.384615</td>\n",
              "      <td>1.700440</td>\n",
              "    </tr>\n",
              "  </tbody>\n",
              "</table>\n",
              "</div>"
            ],
            "text/plain": [
              "                               total  empty  distinct  uniqueness    entropy\n",
              "CRASH DATE                      1891      0      1440    0.761502  10.374932\n",
              "CRASH TIME                      1891      0       601    0.317821   8.449732\n",
              "BOROUGH                         1891    600         5    0.003873   2.105473\n",
              "ZIP CODE                        1891    601       171    0.132558   7.114951\n",
              "LATITUDE                        1891    221      1608    0.962874  10.630929\n",
              "LONGITUDE                       1891    221      1602    0.959281  10.622839\n",
              "LOCATION                        1891    221      1617    0.968263  10.642159\n",
              "ON STREET NAME                  1891    382       857    0.567926   9.307246\n",
              "CROSS STREET NAME               1891    673       903    0.741379   9.573535\n",
              "OFF STREET NAME                 1891   1601       290    1.000000   8.179909\n",
              "NUMBER OF PERSONS INJURED       1891      0         8    0.004231   0.997646\n",
              "NUMBER OF PERSONS KILLED        1891      0         2    0.001058   0.017041\n",
              "NUMBER OF PEDESTRIANS INJURED   1891      0         3    0.001586   0.313557\n",
              "NUMBER OF PEDESTRIANS KILLED    1891      0         2    0.001058   0.017041\n",
              "NUMBER OF CYCLIST INJURED       1891      0         3    0.001586   0.188186\n",
              "NUMBER OF CYCLIST KILLED        1891      0         1    0.000529   0.000000\n",
              "NUMBER OF MOTORIST INJURED      1891      0         8    0.004231   0.765108\n",
              "NUMBER OF MOTORIST KILLED       1891      0         1    0.000529   0.000000\n",
              "CONTRIBUTING FACTOR VEHICLE 1   1891      8        46    0.024429   3.522045\n",
              "CONTRIBUTING FACTOR VEHICLE 2   1891    281        29    0.018012   1.179003\n",
              "CONTRIBUTING FACTOR VEHICLE 3   1891   1751         8    0.057143   0.560264\n",
              "CONTRIBUTING FACTOR VEHICLE 4   1891   1853         3    0.078947   0.350104\n",
              "CONTRIBUTING FACTOR VEHICLE 5   1891   1878         2    0.153846   0.391244\n",
              "COLLISION_ID                    1891      0      1891    1.000000  10.884934\n",
              "VEHICLE TYPE CODE 1             1891     17        43    0.022946   3.215155\n",
              "VEHICLE TYPE CODE 2             1891    324        42    0.026803   3.465559\n",
              "VEHICLE TYPE CODE 3             1891   1757        19    0.141791   2.821481\n",
              "VEHICLE TYPE CODE 4             1891   1854         8    0.216216   2.358540\n",
              "VEHICLE TYPE CODE 5             1891   1878         5    0.384615   1.700440"
            ]
          },
          "metadata": {},
          "execution_count": 17
        }
      ]
    },
    {
      "cell_type": "markdown",
      "source": [
        "## a. Select the columns that are common with the original dataset:\n",
        "1. CRASH_DATE\n",
        "2. CRASH_TIME\n",
        "3. BOROUGH\n",
        "4. LATITUDE\n",
        "5. LONGITUDE\n",
        "\n",
        "\n",
        "We can consider the primary key along with this\n",
        "1. COLLISSION_ID\n"
      ],
      "metadata": {
        "id": "paHwx8COfUAn"
      }
    },
    {
      "cell_type": "code",
      "source": [
        "interested_columns_1=['COLLISION_ID', 'CRASH DATE','CRASH TIME','BOROUGH', 'LATITUDE', 'LONGITUDE']\n",
        "df_spark=get_area_of_interest(df_spark, interested_columns_1)"
      ],
      "metadata": {
        "id": "GymGzo9SfMN8"
      },
      "execution_count": null,
      "outputs": []
    },
    {
      "cell_type": "markdown",
      "source": [
        "## b. Lets pass the dataset through the preprocessing pipeline"
      ],
      "metadata": {
        "id": "5Ey6YlZ1fdDz"
      }
    },
    {
      "cell_type": "code",
      "source": [
        "df_temp=df_spark.rdd"
      ],
      "metadata": {
        "id": "AFEqyoG1fZSD"
      },
      "execution_count": null,
      "outputs": []
    },
    {
      "cell_type": "markdown",
      "source": [
        "1. Date validation"
      ],
      "metadata": {
        "id": "PCwMqIgNfjOT"
      }
    },
    {
      "cell_type": "code",
      "source": [
        "df_temp_=df_temp.map(lambda x:(x, valid_date_check(str(x[1])))).filter(lambda x: x[1]==True)\n",
        "df_temp=df_temp_.map(lambda x: x[0])"
      ],
      "metadata": {
        "id": "eBrU_gyCfgG1"
      },
      "execution_count": null,
      "outputs": []
    },
    {
      "cell_type": "code",
      "source": [
        "df_temp.count()"
      ],
      "metadata": {
        "colab": {
          "base_uri": "https://localhost:8080/"
        },
        "id": "izxp90LLOw62",
        "outputId": "079cc7c9-2b38-475b-8069-9817e7addbf4"
      },
      "execution_count": null,
      "outputs": [
        {
          "output_type": "execute_result",
          "data": {
            "text/plain": [
              "1891"
            ]
          },
          "metadata": {},
          "execution_count": 24
        }
      ]
    },
    {
      "cell_type": "markdown",
      "source": [
        "2. Time Validation"
      ],
      "metadata": {
        "id": "kD2sbi9IAiIa"
      }
    },
    {
      "cell_type": "code",
      "source": [
        "df_temp_=df_temp.map(lambda x:(x, valid_time_check(str(x[2])))).filter(lambda x: x[1]==True)\n",
        "df_temp=df_temp_.map(lambda x: x[0])"
      ],
      "metadata": {
        "id": "9AqM1zZbAhKJ"
      },
      "execution_count": null,
      "outputs": []
    },
    {
      "cell_type": "code",
      "source": [
        "df_temp.count()"
      ],
      "metadata": {
        "colab": {
          "base_uri": "https://localhost:8080/"
        },
        "outputId": "109d98c7-43a2-4063-abf8-e5730486f211",
        "id": "E_fHZJoKPhCW"
      },
      "execution_count": null,
      "outputs": [
        {
          "output_type": "execute_result",
          "data": {
            "text/plain": [
              "1891"
            ]
          },
          "metadata": {},
          "execution_count": 26
        }
      ]
    },
    {
      "cell_type": "markdown",
      "source": [
        "3. Geocoding"
      ],
      "metadata": {
        "id": "k0CryG30f201"
      }
    },
    {
      "cell_type": "code",
      "source": [
        "#geospacial attributes imputation\n",
        "df_temp=df_temp.toDF(schema=df_spark.schema)\n",
        "df_spk=reverse_geo_code_boros(df_temp, 'LATITUDE', 'LONGITUDE', 'BOROUGH', -2, -1)"
      ],
      "metadata": {
        "id": "UCaVenmIfn6V",
        "colab": {
          "base_uri": "https://localhost:8080/"
        },
        "outputId": "8553ce7e-e3d2-40ac-acd5-b1a203e005af"
      },
      "execution_count": null,
      "outputs": [
        {
          "output_type": "stream",
          "name": "stdout",
          "text": [
            "___intializing Zip Code Look up ____\n",
            "____ imputing the points ____\n"
          ]
        }
      ]
    },
    {
      "cell_type": "markdown",
      "source": [
        "4. Jurisdiction Code, Precinct check"
      ],
      "metadata": {
        "id": "Y4scwWysAPhO"
      }
    },
    {
      "cell_type": "code",
      "source": [
        "df_temp=df_spk.rdd\n",
        "\n",
        "df_spark=df_temp.toDF(schema=df_spark.schema)"
      ],
      "metadata": {
        "id": "Zhx3n4zFAOvN"
      },
      "execution_count": null,
      "outputs": []
    },
    {
      "cell_type": "markdown",
      "source": [
        "Lets profile the data now."
      ],
      "metadata": {
        "id": "-K1Yk9XSgcyi"
      }
    },
    {
      "cell_type": "code",
      "source": [
        "pandasDF = df_spk.toPandas()\n",
        "ds=stream(pandasDF)\n",
        "\n",
        "#Creating profile of our dataset\n",
        "profiles = ds.profile(default_profiler=DefaultColumnProfiler)\n",
        "profiles.stats()"
      ],
      "metadata": {
        "colab": {
          "base_uri": "https://localhost:8080/",
          "height": 235
        },
        "id": "Xnr8RCLtgZZg",
        "outputId": "a5904884-f860-4082-f3a4-91f23b06e860"
      },
      "execution_count": null,
      "outputs": [
        {
          "output_type": "execute_result",
          "data": {
            "text/html": [
              "<div>\n",
              "<style scoped>\n",
              "    .dataframe tbody tr th:only-of-type {\n",
              "        vertical-align: middle;\n",
              "    }\n",
              "\n",
              "    .dataframe tbody tr th {\n",
              "        vertical-align: top;\n",
              "    }\n",
              "\n",
              "    .dataframe thead th {\n",
              "        text-align: right;\n",
              "    }\n",
              "</style>\n",
              "<table border=\"1\" class=\"dataframe\">\n",
              "  <thead>\n",
              "    <tr style=\"text-align: right;\">\n",
              "      <th></th>\n",
              "      <th>total</th>\n",
              "      <th>empty</th>\n",
              "      <th>distinct</th>\n",
              "      <th>uniqueness</th>\n",
              "      <th>entropy</th>\n",
              "    </tr>\n",
              "  </thead>\n",
              "  <tbody>\n",
              "    <tr>\n",
              "      <th>COLLISION_ID</th>\n",
              "      <td>1670</td>\n",
              "      <td>0</td>\n",
              "      <td>1670</td>\n",
              "      <td>1.000000</td>\n",
              "      <td>10.705632</td>\n",
              "    </tr>\n",
              "    <tr>\n",
              "      <th>CRASH DATE</th>\n",
              "      <td>1670</td>\n",
              "      <td>0</td>\n",
              "      <td>1310</td>\n",
              "      <td>0.784431</td>\n",
              "      <td>10.249069</td>\n",
              "    </tr>\n",
              "    <tr>\n",
              "      <th>CRASH TIME</th>\n",
              "      <td>1670</td>\n",
              "      <td>0</td>\n",
              "      <td>563</td>\n",
              "      <td>0.337126</td>\n",
              "      <td>8.398961</td>\n",
              "    </tr>\n",
              "    <tr>\n",
              "      <th>BOROUGH</th>\n",
              "      <td>1670</td>\n",
              "      <td>0</td>\n",
              "      <td>6</td>\n",
              "      <td>0.003593</td>\n",
              "      <td>2.128604</td>\n",
              "    </tr>\n",
              "    <tr>\n",
              "      <th>LATITUDE</th>\n",
              "      <td>1670</td>\n",
              "      <td>0</td>\n",
              "      <td>1608</td>\n",
              "      <td>0.962874</td>\n",
              "      <td>10.630929</td>\n",
              "    </tr>\n",
              "    <tr>\n",
              "      <th>LONGITUDE</th>\n",
              "      <td>1670</td>\n",
              "      <td>0</td>\n",
              "      <td>1602</td>\n",
              "      <td>0.959281</td>\n",
              "      <td>10.622839</td>\n",
              "    </tr>\n",
              "  </tbody>\n",
              "</table>\n",
              "</div>"
            ],
            "text/plain": [
              "              total  empty  distinct  uniqueness    entropy\n",
              "COLLISION_ID   1670      0      1670    1.000000  10.705632\n",
              "CRASH DATE     1670      0      1310    0.784431  10.249069\n",
              "CRASH TIME     1670      0       563    0.337126   8.398961\n",
              "BOROUGH        1670      0         6    0.003593   2.128604\n",
              "LATITUDE       1670      0      1608    0.962874  10.630929\n",
              "LONGITUDE      1670      0      1602    0.959281  10.622839"
            ]
          },
          "metadata": {},
          "execution_count": 30
        }
      ]
    },
    {
      "cell_type": "markdown",
      "source": [
        "### PRECISION AND RECALL\n",
        "\n",
        "1. True Positive = 1670\n",
        "2. selected elements = 1891\n",
        "3. Relevant elements = 1670\n",
        "\n",
        "4. precision= 1670/1891\n",
        "5. recall = 1670/1670"
      ],
      "metadata": {
        "id": "b-NYhxEHCoym"
      }
    }
  ]
}